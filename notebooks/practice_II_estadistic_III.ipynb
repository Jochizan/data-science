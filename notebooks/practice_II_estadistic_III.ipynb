{
 "cells": [
  {
   "cell_type": "markdown",
   "id": "da8b490f",
   "metadata": {},
   "source": [
    "# Pregunta 3\n",
    "\n",
    "- La estatura media de los alumnos de cierta universidad es de 1.68 m con desviación estándar de 6 cm. ¿Hay razón para creer que se ha producido un cambio en la estatura promedio, si una muestra de 30 estudiantes dio una estatura promedio de 1.70 m? Use α = 0.01"
   ]
  },
  {
   "cell_type": "markdown",
   "id": "4cc6c810",
   "metadata": {},
   "source": [
    "## A.\tHIPOTESIS DE INVESTIGACIÓN:"
   ]
  },
  {
   "cell_type": "markdown",
   "id": "fe0bccbd",
   "metadata": {},
   "source": [
    "- H0: Que existe un cambio considerable en la estatura promedio de los estudiantes.\n",
    "- H1: Que no existe un cambio considerable en la estatura promedio de los estudiantes."
   ]
  },
  {
   "cell_type": "markdown",
   "id": "cf63cde2",
   "metadata": {},
   "source": [
    "## B.\tMUESTRA\n",
    "\n",
    "- Nivel de confianza = 1 - α = 99% = 0.99\n",
    "- Tamaño de muestra n = 30"
   ]
  },
  {
   "cell_type": "markdown",
   "id": "f4866152",
   "metadata": {},
   "source": [
    "## C.\tSIGNIFICANCIA\n",
    "\n",
    "- Error tipo I = α = 0.01 = 1%"
   ]
  },
  {
   "cell_type": "markdown",
   "id": "cf4c29e4",
   "metadata": {},
   "source": [
    "## D. HIPÓTESIS ESTADÍSTICA\n",
    "\n",
    "- Asumiendo la distribución de los datos sigue una distribución normal\n",
    "- H0:  μ ≠ 1.68             H. Nula\n",
    "- H1:  μ = 1.68             H. Alterna\n"
   ]
  },
  {
   "cell_type": "code",
   "execution_count": 1,
   "id": "5de3f4ac",
   "metadata": {},
   "outputs": [],
   "source": [
    "# Importación de librerias a utilizar\n",
    "import numpy as np\n",
    "import pandas as pd\n",
    "import matplotlib.pyplot as plt\n",
    "\n",
    "from scipy import stats as ss"
   ]
  },
  {
   "cell_type": "code",
   "execution_count": 36,
   "id": "241aaae6",
   "metadata": {},
   "outputs": [],
   "source": [
    "# Tamaño de la muestra\n",
    "n = 30\n",
    "# Media de la hipotesis\n",
    "mean_hyp = 1.68\n",
    "# Media muestral\n",
    "mean = 1.7\n",
    "# Desviación estandár\n",
    "sig = 0.06\n",
    "# Significancia\n",
    "alpha = 0.01"
   ]
  },
  {
   "cell_type": "markdown",
   "id": "c96164e7",
   "metadata": {},
   "source": [
    "## E. TIPO DE PRUEBA\n",
    "\n",
    "- Sera de doble cola porque H0 tiene el signo diferente:"
   ]
  },
  {
   "cell_type": "code",
   "execution_count": 37,
   "id": "c1a9aab5",
   "metadata": {},
   "outputs": [
    {
     "data": {
      "text/plain": [
       "<matplotlib.legend.Legend at 0x22553e9b520>"
      ]
     },
     "execution_count": 37,
     "metadata": {},
     "output_type": "execute_result"
    },
    {
     "data": {
      "image/png": "[encoded data removed]",
      "text/plain": [
       "<Figure size 432x288 with 1 Axes>"
      ]
     },
     "metadata": {
      "needs_background": "light"
     },
     "output_type": "display_data"
    }
   ],
   "source": [
    "# Gráfica de referencia para las colas\n",
    "rand = np.array(np.random.rand((100)) * 100, 'int')\n",
    "mu, sigma = np.mean(rand), np.std(rand)\n",
    "\n",
    "X = ss.norm(mu, sigma)\n",
    "\n",
    "graph = np.arange(X.ppf(0.001), X.ppf(0.999))\n",
    "plt.plot(graph, X.pdf(graph), c='skyblue')\n",
    "\n",
    "tail_left = int(graph.size * 0.05) + 1\n",
    "tail_right = int(graph.size * 0.95) - 1\n",
    "\n",
    "plt.axvline(graph[tail_left], c='#f80000', label='α=0.005 CI')\n",
    "plt.axvline(graph[tail_right], c='#f80000', label='α=0.005 CD')\n",
    "\n",
    "plt.title('Gráfica de la pregunta')\n",
    "plt.ylabel('y')\n",
    "plt.xlabel('x')\n",
    "\n",
    "plt.legend()"
   ]
  },
  {
   "cell_type": "markdown",
   "id": "75609154",
   "metadata": {},
   "source": [
    "## H.\tESTADISTICO DE PRUEBA\n",
    "\n",
    "- Trata de una proporción de población, entonces mi estadistico de prueba es:\n",
    "\n",
    "- Formula: $$z = {{x ̅ - \\mu} \\over {\\sigma \\over \\sqrt n} }$$"
   ]
  },
  {
   "cell_type": "code",
   "execution_count": 38,
   "id": "8c798ea7",
   "metadata": {},
   "outputs": [],
   "source": [
    "def test_z(x, u, sig, n):\n",
    "    \n",
    "    return (x - u) / (sig / np.sqrt(n))"
   ]
  },
  {
   "cell_type": "code",
   "execution_count": 39,
   "id": "92e0ff2c",
   "metadata": {},
   "outputs": [
    {
     "name": "stdout",
     "output_type": "stream",
     "text": [
      "El estadistico de prueba \"z\" es: -1.8257418583505554\n"
     ]
    }
   ],
   "source": [
    "# Calcular el \"t\" si no se conoce la desviación típica poblacional\n",
    "z = test_z(mean_hyp, mean, sig, n)\n",
    "print('El estadistico de prueba \"z\" es:', z)"
   ]
  },
  {
   "cell_type": "code",
   "execution_count": 40,
   "id": "f0dbee94",
   "metadata": {},
   "outputs": [
    {
     "name": "stdout",
     "output_type": "stream",
     "text": [
      "El p-valor es:  0.06788915486182874\n"
     ]
    }
   ],
   "source": [
    "# calculamos el p-valor por el t de prueba cola izquierda\n",
    "p_value = ss.norm.sf(np.abs(z)) * 2\n",
    "print('El p-valor es: ', p_value)"
   ]
  },
  {
   "attachments": {},
   "cell_type": "markdown",
   "id": "802db2d0",
   "metadata": {},
   "source": [
    "### Podemos respaldar nuestros datos con MegaStat de Excel"
   ]
  },
  {
   "cell_type": "markdown",
   "id": "01efed59",
   "metadata": {},
   "source": [
    "## I.\tCONCLUSIÓN\n",
    "\n",
    "- p-value > alpha\n",
    "- 0.067 > 0.005 (Verdadero) No rechazo la Ho\n",
    "\n",
    "- No hay suficiente evidencia en las muestras para no rechazar la hipotesis nula de que existe un variación considerable en la altura de los estudiante. A un nivel de confianza de 99%.\n"
   ]
  }
 ],
 "metadata": {
  "kernelspec": {
   "display_name": "Python 3",
   "language": "python",
   "name": "python3"
  },
  "language_info": {
   "codemirror_mode": {
    "name": "ipython",
    "version": 3
   },
   "file_extension": ".py",
   "mimetype": "text/x-python",
   "name": "python",
   "nbconvert_exporter": "python",
   "pygments_lexer": "ipython3",
   "version": "3.8.8"
  }
 },
 "nbformat": 4,
 "nbformat_minor": 5
}
