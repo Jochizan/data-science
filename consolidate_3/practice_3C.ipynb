{
 "cells": [
  {
   "cell_type": "markdown",
   "id": "ef20f402-0353-4a2e-a189-6e223f9cf93e",
   "metadata": {},
   "source": [
    "# A. HIPÓTESIS DE INVESTIGACIÓN\n",
    "\n",
    "* H1: Determinar si el tiempo  "
   ]
  }
 ],
 "metadata": {
  "kernelspec": {
   "display_name": "Python 3",
   "language": "python",
   "name": "python3"
  },
  "language_info": {
   "codemirror_mode": {
    "name": "ipython",
    "version": 3
   },
   "file_extension": ".py",
   "mimetype": "text/x-python",
   "name": "python",
   "nbconvert_exporter": "python",
   "pygments_lexer": "ipython3",
   "version": "3.8.8"
  }
 },
 "nbformat": 4,
 "nbformat_minor": 5
}
