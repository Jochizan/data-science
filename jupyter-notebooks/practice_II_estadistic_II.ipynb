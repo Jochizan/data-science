{
 "cells": [
  {
   "cell_type": "markdown",
   "id": "da8b490f",
   "metadata": {},
   "source": [
    "# Pregunta 2\n",
    "\n",
    "- Un fabricante de televisores afirma que su póliza de garantía que en el pasado no más de 10% de sus aparatos de televisión necesitaron reparación durante sus primeros dos años de operación. Con el fin de probar la validez de esta afirmación, una agencia de pruebas del gobierno selecciona una muestra de 100 aparatos de televisión y encuentra que 14 de ellos requirieron alguna reparación dentro de los dos primeros años de operación.\n",
    "- Utilizando un nivel de significación de 0.01\n",
    "- ¿Es válida la afirmación del fabricante o existe evidencia de que ésta no es válida?"
   ]
  },
  {
   "cell_type": "markdown",
   "id": "4cc6c810",
   "metadata": {},
   "source": [
    "## A.\tHIPOTESIS DE INVESTIGACIÓN:"
   ]
  },
  {
   "cell_type": "markdown",
   "id": "fe0bccbd",
   "metadata": {},
   "source": [
    "- H1: No más del 10% de sus aparatos de televisión necesitaron reparación durante sus 2 primeros años.\n",
    "- H0: Más del 10% de sus aparatos de televisión necesitaron reparación durante sus 2 primeros años."
   ]
  },
  {
   "cell_type": "markdown",
   "id": "cf63cde2",
   "metadata": {},
   "source": [
    "## B.\tMUESTRA\n",
    "\n",
    "- Nivel de confianza = 1 - α = 99% = 0.99\n",
    "- Tamaño de muestra n = 100"
   ]
  },
  {
   "cell_type": "markdown",
   "id": "f4866152",
   "metadata": {},
   "source": [
    "## C.\tSIGNIFICANCIA\n",
    "\n",
    "- Error tipo I = α = 0.01 = 1%"
   ]
  },
  {
   "cell_type": "markdown",
   "id": "cf4c29e4",
   "metadata": {},
   "source": [
    "## D. HIPÓTESIS ESTADÍSTICA\n",
    "\n",
    "- Asumiendo la distribución de los datos sigue una distribución normal\n",
    "- H0:  π < 0.1              H. Nula\n",
    "- H1:  π >= 0.1             H. Alterna\n"
   ]
  },
  {
   "cell_type": "code",
   "execution_count": 8,
   "id": "5de3f4ac",
   "metadata": {},
   "outputs": [],
   "source": [
    "# Importación de librerias a utilizar\n",
    "import numpy as np\n",
    "import pandas as pd\n",
    "import matplotlib.pyplot as plt\n",
    "\n",
    "from scipy import stats as ss"
   ]
  },
  {
   "cell_type": "markdown",
   "id": "c96164e7",
   "metadata": {},
   "source": [
    "## E. TIPO DE PRUEBA\n",
    "\n",
    "- Será de cola izquierda porque H1 tiene el signo menor"
   ]
  },
  {
   "cell_type": "code",
   "execution_count": 10,
   "id": "c1a9aab5",
   "metadata": {},
   "outputs": [
    {
     "data": {
      "text/plain": [
       "<matplotlib.legend.Legend at 0x271b1cb6850>"
      ]
     },
     "execution_count": 10,
     "metadata": {},
     "output_type": "execute_result"
    },
    {
     "data": {
      "image/png": "[encoded data removed]",
      "text/plain": [
       "<Figure size 432x288 with 1 Axes>"
      ]
     },
     "metadata": {
      "needs_background": "light"
     },
     "output_type": "display_data"
    }
   ],
   "source": [
    "# Gráfica de referencia para las colas\n",
    "rand = np.array(np.random.rand((100)) * 100, 'int')\n",
    "mu, sigma = np.mean(rand), np.std(rand)\n",
    "\n",
    "X = ss.norm(mu, sigma)\n",
    "\n",
    "graph = np.arange(X.ppf(0.001), X.ppf(0.999))\n",
    "plt.plot(graph, X.pdf(graph), c='skyblue')\n",
    "\n",
    "tail_left = int(graph.size * 0.05) + 1\n",
    "tail_right = int(graph.size * 0.95) - 1\n",
    "\n",
    "plt.axvline(graph[tail_left], c='#f80000', label='α=0.01 CI')\n",
    "\n",
    "plt.title('Gráfica de la pregunta')\n",
    "plt.ylabel('y')\n",
    "plt.xlabel('x')\n",
    "\n",
    "plt.legend()"
   ]
  },
  {
   "cell_type": "markdown",
   "id": "75609154",
   "metadata": {},
   "source": [
    "## H.\tESTADISTICO DE PRUEBA\n",
    "\n",
    "- Trata de una proporción de población, entonces mi estadistico de prueba es:\n",
    "\n",
    "- Formula: $$z = {{p ̂ - p} \\over {p q \\over \\sqrt n} }$$"
   ]
  },
  {
   "cell_type": "code",
   "execution_count": 18,
   "id": "8c798ea7",
   "metadata": {},
   "outputs": [],
   "source": [
    "def test_z(p_h, p, q, n):\n",
    "    \n",
    "    return (p_h - p) / np.sqrt((p * q) / n)"
   ]
  },
  {
   "cell_type": "code",
   "execution_count": 19,
   "id": "19285751",
   "metadata": {},
   "outputs": [],
   "source": [
    "# Declaramos nuestras variables para el calculo del estadistico de prueba\n",
    "# Tamaño de la muestra\n",
    "n = 100\n",
    "# Significancia\n",
    "alpha = 0.01\n",
    "# proporción poblacional\n",
    "p = 10 / 100\n",
    "# 1 - proporción poblacional\n",
    "q = 1 - p\n",
    "# proporcion muestral\n",
    "p_h = 14 / n"
   ]
  },
  {
   "cell_type": "code",
   "execution_count": 23,
   "id": "92e0ff2c",
   "metadata": {},
   "outputs": [
    {
     "name": "stdout",
     "output_type": "stream",
     "text": [
      "El estadistico de prueba \"z\" es: 1.3333333333333335\n"
     ]
    }
   ],
   "source": [
    "# Calcular el \"t\" si no se conoce la desviación típica poblacional\n",
    "z = test_z(p_h, p, q, n)\n",
    "print('El estadistico de prueba \"z\" es:', z)"
   ]
  },
  {
   "cell_type": "code",
   "execution_count": 28,
   "id": "f0dbee94",
   "metadata": {},
   "outputs": [
    {
     "name": "stdout",
     "output_type": "stream",
     "text": [
      "El p-valor es:  0.09121121972586782\n"
     ]
    }
   ],
   "source": [
    "# calculamos el p-valor por el t de prueba cola izquierda\n",
    "p_value = ss.norm.sf(np.abs(z))\n",
    "print('El p-valor es: ', p_value)"
   ]
  },
  {
   "attachments": {
    "imagen-3.png": {
     "image/png": "[encoded data removed]"
    }
   },
   "cell_type": "markdown",
   "id": "802db2d0",
   "metadata": {},
   "source": [
    "### Podemos respaldar nuestros datos con MegaStat de Excel\n",
    "\n",
    "![imagen-3.png](attachment:imagen-3.png)"
   ]
  },
  {
   "cell_type": "markdown",
   "id": "01efed59",
   "metadata": {},
   "source": [
    "## I.\tCONCLUSIÓN\n",
    "\n",
    "- p-value > alpha\n",
    "- 0.09121121972586782 > 0.01000 (Verdadero) No rechazo la Ho\n",
    "\n",
    "- No hay suficiente evidencia en las muestras para no rechazar la hipotesis nula de que no más de 10% de los aparatos necesitaran reparaciones en sus primeros 2 años. A un nivel de confianza de 99%.\n"
   ]
  },
  {
   "cell_type": "markdown",
   "id": "71030fb3",
   "metadata": {},
   "source": [
    "## H.\tESTADISTICO DE PRUEBA\n",
    "\n",
    "- Trata de una proporción de 2 población, entonces mi estadistico de prueba es:\n",
    "\n",
    "- Formula: $$z = {{(p_1 ̂ - p_2 ̂)}-{(p_1 - p_2)} \\over {\\sqrt {{p_1 ̂ q_1 ̂ \\over n_1} + {p_2 ̂ q_2 ̂ \\over n_1} } } }$$"
   ]
  }
 ],
 "metadata": {
  "kernelspec": {
   "display_name": "Python 3",
   "language": "python",
   "name": "python3"
  },
  "language_info": {
   "codemirror_mode": {
    "name": "ipython",
    "version": 3
   },
   "file_extension": ".py",
   "mimetype": "text/x-python",
   "name": "python",
   "nbconvert_exporter": "python",
   "pygments_lexer": "ipython3",
   "version": "3.8.8"
  }
 },
 "nbformat": 4,
 "nbformat_minor": 5
}
