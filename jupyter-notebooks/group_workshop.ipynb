{
 "cells": [
  {
   "cell_type": "code",
   "execution_count": 6,
   "id": "8f3a8a48",
   "metadata": {},
   "outputs": [],
   "source": [
    "# Tratamiento de datos\n",
    "# ==============================================================================\n",
    "import pandas as pd\n",
    "import numpy as np\n",
    "from scipy import stats\n",
    "\n",
    "# Gráficos\n",
    "# ==============================================================================\n",
    "import matplotlib.pyplot as plt\n",
    "from matplotlib import style\n",
    "import seaborn as sns\n",
    "\n",
    "# Configuración matplotlib\n",
    "# ==============================================================================\n",
    "style.use('ggplot') or plt.style.use('ggplot')\n",
    "\n",
    "# Configuración warnings\n",
    "# ==============================================================================\n",
    "import warnings\n",
    "warnings.filterwarnings('ignore')\n",
    "\n",
    "# Varios\n",
    "# ==============================================================================\n",
    "from tqdm import tqdm"
   ]
  },
  {
   "cell_type": "code",
   "execution_count": 17,
   "id": "2c8b2e57",
   "metadata": {},
   "outputs": [
    {
     "name": "stdout",
     "output_type": "stream",
     "text": [
      "<class 'pandas.core.frame.DataFrame'>\n",
      "RangeIndex: 14 entries, 0 to 13\n",
      "Data columns (total 2 columns):\n",
      " #   Column   Non-Null Count  Dtype\n",
      "---  ------   --------------  -----\n",
      " 0   day_one  14 non-null     int64\n",
      " 1   day_two  14 non-null     int64\n",
      "dtypes: int64(2)\n",
      "memory usage: 352.0 bytes\n"
     ]
    },
    {
     "data": {
      "text/plain": [
       "0.35703170627566405"
      ]
     },
     "execution_count": 17,
     "metadata": {},
     "output_type": "execute_result"
    }
   ],
   "source": [
    "day_one = [138, 130, 135, 140, 120, 125, 120, 130, 130, 144, 143, 140, 130, 150]\n",
    "day_two = [116, 120, 125, 110, 120, 135, 124, 118, 120, 130, 140, 140, 130, 138]\n",
    "\n",
    "datos = {\n",
    "    'day_one': day_one,\n",
    "    'day_two': day_two\n",
    "}\n",
    "\n",
    "datos = pd.DataFrame(data=datos)\n",
    "datos.info()\n",
    "np.corrcoef(day_one, day_two)[0][1]"
   ]
  },
  {
   "cell_type": "code",
   "execution_count": 27,
   "id": "f63bb833",
   "metadata": {},
   "outputs": [
    {
     "data": {
      "image/png": "[encoded data removed]",
      "text/plain": [
       "<Figure size 432x288 with 1 Axes>"
      ]
     },
     "metadata": {},
     "output_type": "display_data"
    }
   ],
   "source": [
    "# Gráficos distribución observada\n",
    "# ==============================================================================\n",
    "plt.scatter(x=list(range(datos.day_one.size)), y=datos.day_one, c='skyblue')\n",
    "plt.plot(list(range(datos.day_one.size)), datos.day_one, c='skyblue')\n",
    "\n",
    "plt.scatter(x=list(range(datos.day_two.size)), y=datos.day_two, c='salmon')\n",
    "plt.plot(list(range(datos.day_two.size)), datos.day_two, c='salmon')\n",
    "plt.show()"
   ]
  },
  {
   "cell_type": "code",
   "execution_count": 19,
   "id": "3a2be913",
   "metadata": {},
   "outputs": [
    {
     "name": "stdout",
     "output_type": "stream",
     "text": [
      "0.357\n",
      "0.2102\n"
     ]
    }
   ],
   "source": [
    "r, p = stats.pearsonr(datos.day_one, datos.day_two)\n",
    "\n",
    "print(round(r, 4))\n",
    "print(round(p, 4))"
   ]
  },
  {
   "cell_type": "code",
   "execution_count": 20,
   "id": "0fb04f22",
   "metadata": {},
   "outputs": [
    {
     "name": "stdout",
     "output_type": "stream",
     "text": [
      "day_one\n",
      "day_two\n"
     ]
    },
    {
     "data": {
      "text/html": [
       "<div>\n",
       "<style scoped>\n",
       "    .dataframe tbody tr th:only-of-type {\n",
       "        vertical-align: middle;\n",
       "    }\n",
       "\n",
       "    .dataframe tbody tr th {\n",
       "        vertical-align: top;\n",
       "    }\n",
       "\n",
       "    .dataframe thead th {\n",
       "        text-align: right;\n",
       "    }\n",
       "</style>\n",
       "<table border=\"1\" class=\"dataframe\">\n",
       "  <thead>\n",
       "    <tr style=\"text-align: right;\">\n",
       "      <th></th>\n",
       "      <th>r</th>\n",
       "      <th>p</th>\n",
       "    </tr>\n",
       "  </thead>\n",
       "  <tbody>\n",
       "    <tr>\n",
       "      <th>day_two</th>\n",
       "      <td>0.357</td>\n",
       "      <td>0.21</td>\n",
       "    </tr>\n",
       "  </tbody>\n",
       "</table>\n",
       "</div>"
      ],
      "text/plain": [
       "             r     p\n",
       "day_two  0.357  0.21"
      ]
     },
     "execution_count": 20,
     "metadata": {},
     "output_type": "execute_result"
    }
   ],
   "source": [
    "corr_df = pd.DataFrame(columns=['r', 'p'])\n",
    "\n",
    "for col in datos:\n",
    "    print(col)\n",
    "    if pd.api.types.is_numeric_dtype(datos[col]) and col != 'day_one':\n",
    "        r, p = stats.pearsonr(datos.day_one, datos[col])\n",
    "        corr_df.loc[col] = [round(r, 3), round(p, 3)] \n",
    "    \n",
    "corr_df"
   ]
  },
  {
   "cell_type": "code",
   "execution_count": 21,
   "id": "95c5850f",
   "metadata": {},
   "outputs": [
    {
     "data": {
      "text/html": [
       "<div>\n",
       "<style scoped>\n",
       "    .dataframe tbody tr th:only-of-type {\n",
       "        vertical-align: middle;\n",
       "    }\n",
       "\n",
       "    .dataframe tbody tr th {\n",
       "        vertical-align: top;\n",
       "    }\n",
       "\n",
       "    .dataframe thead th {\n",
       "        text-align: right;\n",
       "    }\n",
       "</style>\n",
       "<table border=\"1\" class=\"dataframe\">\n",
       "  <thead>\n",
       "    <tr style=\"text-align: right;\">\n",
       "      <th></th>\n",
       "      <th>day_one</th>\n",
       "      <th>day_two</th>\n",
       "    </tr>\n",
       "  </thead>\n",
       "  <tbody>\n",
       "    <tr>\n",
       "      <th>count</th>\n",
       "      <td>14.000000</td>\n",
       "      <td>14.000000</td>\n",
       "    </tr>\n",
       "    <tr>\n",
       "      <th>mean</th>\n",
       "      <td>133.928571</td>\n",
       "      <td>126.142857</td>\n",
       "    </tr>\n",
       "    <tr>\n",
       "      <th>std</th>\n",
       "      <td>9.042330</td>\n",
       "      <td>9.534207</td>\n",
       "    </tr>\n",
       "    <tr>\n",
       "      <th>min</th>\n",
       "      <td>120.000000</td>\n",
       "      <td>110.000000</td>\n",
       "    </tr>\n",
       "    <tr>\n",
       "      <th>25%</th>\n",
       "      <td>130.000000</td>\n",
       "      <td>120.000000</td>\n",
       "    </tr>\n",
       "    <tr>\n",
       "      <th>50%</th>\n",
       "      <td>132.500000</td>\n",
       "      <td>124.500000</td>\n",
       "    </tr>\n",
       "    <tr>\n",
       "      <th>75%</th>\n",
       "      <td>140.000000</td>\n",
       "      <td>133.750000</td>\n",
       "    </tr>\n",
       "    <tr>\n",
       "      <th>max</th>\n",
       "      <td>150.000000</td>\n",
       "      <td>140.000000</td>\n",
       "    </tr>\n",
       "  </tbody>\n",
       "</table>\n",
       "</div>"
      ],
      "text/plain": [
       "          day_one     day_two\n",
       "count   14.000000   14.000000\n",
       "mean   133.928571  126.142857\n",
       "std      9.042330    9.534207\n",
       "min    120.000000  110.000000\n",
       "25%    130.000000  120.000000\n",
       "50%    132.500000  124.500000\n",
       "75%    140.000000  133.750000\n",
       "max    150.000000  140.000000"
      ]
     },
     "execution_count": 21,
     "metadata": {},
     "output_type": "execute_result"
    }
   ],
   "source": [
    "# Estadísticos descriptivos por grupo\n",
    "# ==============================================================================\n",
    "datos.describe()"
   ]
  },
  {
   "cell_type": "code",
   "execution_count": 28,
   "id": "7611bd2a",
   "metadata": {},
   "outputs": [],
   "source": [
    "def dif_mean(x1, x2):\n",
    "    '''\n",
    "    Función para calcular la diferencia de medias entre dos grupos.\n",
    "    \n",
    "    Parameters\n",
    "    ----------\n",
    "    x1 : numpy array\n",
    "         valores de la muestra 1.\n",
    "         \n",
    "    x2 : numpy array\n",
    "         valores de la muestra 2.\n",
    "         \n",
    "    Returns\n",
    "    -------\n",
    "    estadístico: float\n",
    "        valor del estadístico.\n",
    "    '''\n",
    "    \n",
    "    estadistico = np.mean(x1) - np.mean(x2)\n",
    "    return(estadistico)"
   ]
  },
  {
   "cell_type": "code",
   "execution_count": 26,
   "id": "9d287286",
   "metadata": {},
   "outputs": [
    {
     "name": "stdout",
     "output_type": "stream",
     "text": [
      "Diferencia observada: 7.785714285714278\n"
     ]
    }
   ],
   "source": [
    "dif_observada = dif_mean(\n",
    "                    x1 = datos.day_one,\n",
    "                    x2 = datos.day_two\n",
    "                )\n",
    "print(f\"Diferencia observada: {dif_observada}\")"
   ]
  },
  {
   "cell_type": "code",
   "execution_count": 27,
   "id": "f43ee571",
   "metadata": {},
   "outputs": [],
   "source": [
    "def permutaciones(x1, x2, fun_estadistico, n_iteraciones=9999):\n",
    "    '''\n",
    "    Función para calcular el valor del estadístico en múltiples permutaciones\n",
    "    de dos muestras.\n",
    "    \n",
    "    Parameters\n",
    "    ----------\n",
    "    x1 : numpy array\n",
    "         valores de la muestra 1.\n",
    "         \n",
    "    x2 : numpy array\n",
    "         valores de la muestra 2.\n",
    " \n",
    "    fun_estadistico : function\n",
    "        función que recibe como argumento las dos muestras y devuelve el valor\n",
    "        del estadístico.\n",
    "        \n",
    "    n_iteraciones : int\n",
    "        número de permutaciones calculadas (default `9999`).\n",
    "        \n",
    "    Returns\n",
    "    -------\n",
    "    distribuciones: numpy array\n",
    "        valor del estadístico en cada permutación.\n",
    "    '''\n",
    "    \n",
    "    n_x1 = len(x1)\n",
    "    n_x2 = len(x2)\n",
    "    pool_datos = np.hstack((x1, x2))\n",
    "    \n",
    "    resulados_permutaciones = np.full(shape=n_iteraciones, fill_value=np.nan)\n",
    "    \n",
    "    for i in tqdm(range(n_iteraciones)):\n",
    "        np.random.shuffle(pool_datos)\n",
    "        estadistico = fun_estadistico(pool_datos[:n_x1], pool_datos[n_x1:])\n",
    "        resulados_permutaciones[i] = estadistico\n",
    "        \n",
    "    return resulados_permutaciones"
   ]
  },
  {
   "cell_type": "code",
   "execution_count": 29,
   "id": "aa2e0c84",
   "metadata": {},
   "outputs": [
    {
     "name": "stderr",
     "output_type": "stream",
     "text": [
      "100%|█████████████████████████████████████████████████████████████████████████████████████████████████████████████████████████████████| 9999/9999 [00:00<00:00, 50627.48it/s]\n"
     ]
    }
   ],
   "source": [
    "dist_permut = permutaciones(\n",
    "                x1 = datos.day_one,\n",
    "                x2 = datos.day_two,\n",
    "                fun_estadistico = dif_mean,\n",
    "                n_iteraciones   = 9999\n",
    "              )"
   ]
  },
  {
   "cell_type": "code",
   "execution_count": 31,
   "id": "de3564c5",
   "metadata": {},
   "outputs": [
    {
     "data": {
      "image/png": "[encoded data removed]",
      "text/plain": [
       "<Figure size 504x288 with 1 Axes>"
      ]
     },
     "metadata": {},
     "output_type": "display_data"
    }
   ],
   "source": [
    "# Distribución de permutaciones\n",
    "# ==============================================================================\n",
    "fig, ax = plt.subplots(ncols=1, nrows=1, figsize=(7,4))\n",
    "ax.hist(dist_permut, bins=30, density=True, color='#3182bd', alpha=0.5)\n",
    "ax.axvline(x=dist_permut.mean(), color='black', label='media distribución')\n",
    "ax.axvline(x=dif_observada, color='red', label='diferencia observada')\n",
    "ax.axvline(x=-dif_observada, color='red')\n",
    "\n",
    "ax.set_title('Distribución de permutaciones')\n",
    "ax.set_xlabel('diferencia de medias')\n",
    "ax.set_ylabel('densidad')\n",
    "ax.legend();"
   ]
  },
  {
   "cell_type": "code",
   "execution_count": 32,
   "id": "67d7bff7",
   "metadata": {},
   "outputs": [
    {
     "data": {
      "text/plain": [
       "count    9999.000000\n",
       "mean        0.029296\n",
       "std         3.764691\n",
       "min       -13.214286\n",
       "25%        -2.500000\n",
       "50%         0.071429\n",
       "75%         2.642857\n",
       "max        14.642857\n",
       "dtype: float64"
      ]
     },
     "execution_count": 32,
     "metadata": {},
     "output_type": "execute_result"
    }
   ],
   "source": [
    "pd.Series(dist_permut).describe()"
   ]
  },
  {
   "cell_type": "code",
   "execution_count": 48,
   "id": "746fe687",
   "metadata": {},
   "outputs": [
    {
     "name": "stdout",
     "output_type": "stream",
     "text": [
      "p-value sin corrección: 0.827982798279828\n",
      "p-value con corrección: 0.828082808280828\n"
     ]
    }
   ],
   "source": [
    "# P-value empírico con y sin corrección\n",
    "# ==============================================================================\n",
    "p_value = (sum(np.abs(dist_permut) > np.abs(dif_observada)))/len(dist_permut)\n",
    "p_value_correc = (sum(np.abs(dist_permut) > np.abs(dif_observada)) + 1)/len(dist_permut + 1)\n",
    "print(f\"p-value sin corrección: {p_value}\")\n",
    "print(f\"p-value con corrección: {p_value_correc}\")"
   ]
  },
  {
   "cell_type": "code",
   "execution_count": 34,
   "id": "49506fe3",
   "metadata": {},
   "outputs": [],
   "source": [
    "def dif_var(x1, x2):\n",
    "    '''\n",
    "    Función para calcular la diferencia de varianzas entre dos muestras.\n",
    "    \n",
    "    Parameters\n",
    "    ----------\n",
    "    x1 : numpy array\n",
    "         valores de la muestra 1.\n",
    "         \n",
    "    x2 : numpy array\n",
    "         valores de la muestra 2.\n",
    "         \n",
    "    Returns\n",
    "    -------\n",
    "    estadístico: float\n",
    "        valor del estadístico.\n",
    "    '''\n",
    "    \n",
    "    estadistico = np.var(x1) - np.var(x2)\n",
    "    return(estadistico)"
   ]
  },
  {
   "cell_type": "code",
   "execution_count": 36,
   "id": "7cd934b3",
   "metadata": {},
   "outputs": [
    {
     "name": "stdout",
     "output_type": "stream",
     "text": [
      "Diferencia observada: -8.484693877551024\n"
     ]
    }
   ],
   "source": [
    "dif_observada = dif_var(\n",
    "                    x1 = datos.day_one,\n",
    "                    x2 = datos.day_two\n",
    "                )\n",
    "print(f\"Diferencia observada: {dif_observada}\")"
   ]
  },
  {
   "cell_type": "code",
   "execution_count": 39,
   "id": "937733af",
   "metadata": {},
   "outputs": [
    {
     "name": "stderr",
     "output_type": "stream",
     "text": [
      "100%|█████████████████████████████████████████████████████████████████████████████████████████████████████████████████████████████████| 9999/9999 [00:00<00:00, 21870.16it/s]\n"
     ]
    }
   ],
   "source": [
    "dist_permut = permutaciones(\n",
    "                x1 = datos.day_one,\n",
    "                x2 = datos.day_two,\n",
    "                fun_estadistico = dif_var,\n",
    "                n_iteraciones   = 9999\n",
    "              )"
   ]
  },
  {
   "cell_type": "code",
   "execution_count": 40,
   "id": "86fa69b2",
   "metadata": {},
   "outputs": [
    {
     "data": {
      "text/plain": [
       "<matplotlib.legend.Legend at 0x1cf34ec26d0>"
      ]
     },
     "execution_count": 40,
     "metadata": {},
     "output_type": "execute_result"
    },
    {
     "data": {
      "image/png": "[encoded data removed]",
      "text/plain": [
       "<Figure size 504x288 with 1 Axes>"
      ]
     },
     "metadata": {},
     "output_type": "display_data"
    }
   ],
   "source": [
    "# Distribución de permutaciones\n",
    "# ==============================================================================\n",
    "fig, ax = plt.subplots(ncols=1, nrows=1, figsize=(7,4))\n",
    "ax.hist(dist_permut, bins=30, density=True, color='#3182bd', alpha=0.5)\n",
    "ax.axvline(x=dist_permut.mean(), color='black', label='media distribución')\n",
    "ax.axvline(x=dif_observada, color='red', label='diferencia observada')\n",
    "ax.axvline(x=-dif_observada, color='red')\n",
    "\n",
    "ax.set_title('Distribución de permutaciones')\n",
    "ax.set_xlabel('diferencia de varianza')\n",
    "ax.set_ylabel('densidad')\n",
    "ax.legend()"
   ]
  },
  {
   "cell_type": "code",
   "execution_count": 41,
   "id": "4041b1bc",
   "metadata": {},
   "outputs": [
    {
     "data": {
      "text/plain": [
       "count    9999.000000\n",
       "mean        0.200165\n",
       "std        39.297545\n",
       "min      -127.872449\n",
       "25%       -27.515306\n",
       "50%         0.117347\n",
       "75%        28.071429\n",
       "max       114.005102\n",
       "dtype: float64"
      ]
     },
     "execution_count": 41,
     "metadata": {},
     "output_type": "execute_result"
    }
   ],
   "source": [
    "pd.Series(dist_permut).describe()"
   ]
  },
  {
   "cell_type": "code",
   "execution_count": 49,
   "id": "83d66882",
   "metadata": {},
   "outputs": [
    {
     "name": "stdout",
     "output_type": "stream",
     "text": [
      "p-value sin corrección: 0.827982798279828\n",
      "p-value con corrección: 0.828082808280828\n"
     ]
    }
   ],
   "source": [
    "# P-value empírico con y sin corrección\n",
    "# ==============================================================================\n",
    "p_value = (sum(np.abs(dist_permut) > np.abs(dif_observada)))/len(dist_permut)\n",
    "p_value_correc = (sum(np.abs(dist_permut) > np.abs(dif_observada)) + 1)/len(dist_permut + 1)\n",
    "print(f\"p-value sin corrección: {p_value}\")\n",
    "print(f\"p-value con corrección: {p_value_correc}\")"
   ]
  },
  {
   "cell_type": "code",
   "execution_count": null,
   "id": "76025946",
   "metadata": {},
   "outputs": [],
   "source": []
  }
 ],
 "metadata": {
  "kernelspec": {
   "display_name": "Python 3",
   "language": "python",
   "name": "python3"
  },
  "language_info": {
   "codemirror_mode": {
    "name": "ipython",
    "version": 3
   },
   "file_extension": ".py",
   "mimetype": "text/x-python",
   "name": "python",
   "nbconvert_exporter": "python",
   "pygments_lexer": "ipython3",
   "version": "3.8.8"
  }
 },
 "nbformat": 4,
 "nbformat_minor": 5
}
