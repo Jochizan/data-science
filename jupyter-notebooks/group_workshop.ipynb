{
 "cells": [
  {
   "cell_type": "code",
   "execution_count": 41,
   "id": "8f3a8a48",
   "metadata": {},
   "outputs": [],
   "source": [
    "# Tratamiento de datos\n",
    "# ==============================================================================\n",
    "import pandas as pd\n",
    "import numpy as np\n",
    "from scipy import stats as ss\n",
    "\n",
    "# Gráficos\n",
    "# ==============================================================================\n",
    "import matplotlib.pyplot as plt\n",
    "from matplotlib import style\n",
    "\n",
    "# Configuración matplotlib\n",
    "# ==============================================================================\n",
    "%matplotlib inline \n",
    "style.use('ggplot') or plt.style.use('ggplot')\n",
    "\n",
    "# Configuración warnings\n",
    "# ==============================================================================\n",
    "import warnings\n",
    "warnings.filterwarnings('ignore')\n",
    "\n",
    "# Varios\n",
    "# ==============================================================================\n",
    "from tqdm import tqdm"
   ]
  },
  {
   "cell_type": "code",
   "execution_count": 47,
   "id": "2c8b2e57",
   "metadata": {},
   "outputs": [],
   "source": [
    "day_one = [138, 130, 135, 140, 120, 125, 120, 130, 130, 144, 143, 140, 130, 150]\n",
    "day_two = [116, 120, 125, 110, 120, 135, 124, 118, 120, 130, 140, 140, 130, 138]\n",
    "alpha = 0.05\n",
    "\n",
    "datos = {\n",
    "    'day_one': day_one,\n",
    "    'day_two': day_two\n",
    "}\n",
    "\n",
    "datos = pd.DataFrame(datos)"
   ]
  },
  {
   "cell_type": "code",
   "execution_count": 45,
   "id": "f63bb833",
   "metadata": {},
   "outputs": [
    {
     "data": {
      "text/plain": [
       "<matplotlib.legend.Legend at 0x1c5154dba60>"
      ]
     },
     "execution_count": 45,
     "metadata": {},
     "output_type": "execute_result"
    },
    {
     "data": {
      "image/png": "[encoded data removed]",
      "text/plain": [
       "<Figure size 432x288 with 1 Axes>"
      ]
     },
     "metadata": {},
     "output_type": "display_data"
    }
   ],
   "source": [
    "# Gráfica de referencia para las colas\n",
    "mu1, sigma1 = np.mean(datos.day_one), np.std(datos.day_one)\n",
    "mu2, sigma2 = np.mean(datos.day_two), np.std(datos.day_two)\n",
    "\n",
    "X = ss.norm(mu1, sigma1)\n",
    "Y = ss.norm(mu2, sigma2)\n",
    "\n",
    "graph1 = np.arange(X.ppf(0.00001), X.ppf(0.99999))\n",
    "graph2 = np.arange(Y.ppf(0.00001), Y.ppf(0.99999))\n",
    "\n",
    "plt.plot(graph1, X.pdf(graph1), c='skyblue')\n",
    "plt.plot(graph2, Y.pdf(graph2), c='salmon')\n",
    "\n",
    "tail_left = int(graph1.size * 0.05) + 1\n",
    "tail_right = int(graph1.size * 0.95) - 1\n",
    "\n",
    "plt.axvline(mu1, c='blue', label='media1')\n",
    "plt.axvline(mu2, c='red', label='media2')\n",
    "plt.axvline(graph1[tail_right], c='#c02200', label='α/2=0.025 CD')\n",
    "plt.axvline(graph1[tail_left], c='#f80000', label='α/2=0.025 CI')\n",
    "\n",
    "plt.title('Gráfica de la pregunta')\n",
    "plt.ylabel('y')\n",
    "plt.xlabel('pesos (g)')\n",
    "\n",
    "plt.legend()"
   ]
  },
  {
   "cell_type": "code",
   "execution_count": 46,
   "id": "ce6a15cf",
   "metadata": {},
   "outputs": [],
   "source": [
    "def test_t(x1, x2, std1, std2, n1, n2):\n",
    "    \n",
    "    return ((x1 - x2) - 0) / np.sqrt(std1 ** 2 / n1 + std2 ** 2 / n2)"
   ]
  },
  {
   "cell_type": "code",
   "execution_count": 49,
   "id": "15d394a4",
   "metadata": {},
   "outputs": [
    {
     "data": {
      "text/html": [
       "<div>\n",
       "<style scoped>\n",
       "    .dataframe tbody tr th:only-of-type {\n",
       "        vertical-align: middle;\n",
       "    }\n",
       "\n",
       "    .dataframe tbody tr th {\n",
       "        vertical-align: top;\n",
       "    }\n",
       "\n",
       "    .dataframe thead th {\n",
       "        text-align: right;\n",
       "    }\n",
       "</style>\n",
       "<table border=\"1\" class=\"dataframe\">\n",
       "  <thead>\n",
       "    <tr style=\"text-align: right;\">\n",
       "      <th></th>\n",
       "      <th>day_one</th>\n",
       "      <th>day_two</th>\n",
       "    </tr>\n",
       "  </thead>\n",
       "  <tbody>\n",
       "    <tr>\n",
       "      <th>count</th>\n",
       "      <td>14.000000</td>\n",
       "      <td>14.000000</td>\n",
       "    </tr>\n",
       "    <tr>\n",
       "      <th>mean</th>\n",
       "      <td>133.928571</td>\n",
       "      <td>126.142857</td>\n",
       "    </tr>\n",
       "    <tr>\n",
       "      <th>std</th>\n",
       "      <td>9.042330</td>\n",
       "      <td>9.534207</td>\n",
       "    </tr>\n",
       "    <tr>\n",
       "      <th>min</th>\n",
       "      <td>120.000000</td>\n",
       "      <td>110.000000</td>\n",
       "    </tr>\n",
       "    <tr>\n",
       "      <th>25%</th>\n",
       "      <td>130.000000</td>\n",
       "      <td>120.000000</td>\n",
       "    </tr>\n",
       "    <tr>\n",
       "      <th>50%</th>\n",
       "      <td>132.500000</td>\n",
       "      <td>124.500000</td>\n",
       "    </tr>\n",
       "    <tr>\n",
       "      <th>75%</th>\n",
       "      <td>140.000000</td>\n",
       "      <td>133.750000</td>\n",
       "    </tr>\n",
       "    <tr>\n",
       "      <th>max</th>\n",
       "      <td>150.000000</td>\n",
       "      <td>140.000000</td>\n",
       "    </tr>\n",
       "  </tbody>\n",
       "</table>\n",
       "</div>"
      ],
      "text/plain": [
       "          day_one     day_two\n",
       "count   14.000000   14.000000\n",
       "mean   133.928571  126.142857\n",
       "std      9.042330    9.534207\n",
       "min    120.000000  110.000000\n",
       "25%    130.000000  120.000000\n",
       "50%    132.500000  124.500000\n",
       "75%    140.000000  133.750000\n",
       "max    150.000000  140.000000"
      ]
     },
     "execution_count": 49,
     "metadata": {},
     "output_type": "execute_result"
    }
   ],
   "source": [
    "datos.describe()"
   ]
  },
  {
   "cell_type": "code",
   "execution_count": 56,
   "id": "5b2cfb17",
   "metadata": {},
   "outputs": [
    {
     "name": "stdout",
     "output_type": "stream",
     "text": [
      "El estadistico de prueba \"t\" es: 2.7637379337772026\n",
      "El p-valor es:  0.016109284422067667\n"
     ]
    }
   ],
   "source": [
    "t, p_value = ss.ttest_rel(datos.day_one, datos.day_two)\n",
    "\n",
    "print('El estadistico de prueba \"t\" es:', t)\n",
    "print('El p-valor es: ', p_value)"
   ]
  }
 ],
 "metadata": {
  "kernelspec": {
   "display_name": "Python 3",
   "language": "python",
   "name": "python3"
  },
  "language_info": {
   "codemirror_mode": {
    "name": "ipython",
    "version": 3
   },
   "file_extension": ".py",
   "mimetype": "text/x-python",
   "name": "python",
   "nbconvert_exporter": "python",
   "pygments_lexer": "ipython3",
   "version": "3.8.8"
  }
 },
 "nbformat": 4,
 "nbformat_minor": 5
}
