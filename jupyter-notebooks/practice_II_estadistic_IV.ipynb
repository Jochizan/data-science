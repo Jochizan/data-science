{
 "cells": [
  {
   "cell_type": "markdown",
   "id": "da8b490f",
   "metadata": {},
   "source": [
    "# Pregunta 4\n",
    "\n",
    "- Los siguientes datos fueron recabados en un experimento que fue diseñado para verificar si existe una diferencia sistemática en los pesos en gramos obtenidos con dos diferentes balanzas:\n",
    "\n",
    "* BalanzaI:\t11.23,\t14.36,\t8.33,\t10.50,\t23.42,\t9.15,\t13.47,\t6.47,\t12.40,\t19.38\n",
    "* BalanzaII: 11.27,\t14.41,\t8.35,\t10.52,\t23.41,\t9.17,\t13.52,\t6.46,\t12.45,\t19.35\n",
    "\n",
    "- ¿Existe diferencia significativa entre los pesos obtenidos con las dos balanzas? Use alfa = 0.05"
   ]
  },
  {
   "cell_type": "markdown",
   "id": "4cc6c810",
   "metadata": {},
   "source": [
    "## A.\tHIPOTESIS DE INVESTIGACIÓN:"
   ]
  },
  {
   "cell_type": "markdown",
   "id": "fe0bccbd",
   "metadata": {},
   "source": [
    "- H0: El peso promedio de cada caja de avena envasada es 500 gramos.\n",
    "- H1: El peso promedio de cada caja de avena envasada NO es 500 gramos."
   ]
  },
  {
   "cell_type": "markdown",
   "id": "15a9af2a",
   "metadata": {},
   "source": [
    "## B.\tPOBLACIONES\n",
    "\n",
    "- La población es todas las cajas de avena envasada que realiza el productor."
   ]
  },
  {
   "cell_type": "markdown",
   "id": "cf63cde2",
   "metadata": {},
   "source": [
    "## C.\tMUESTRA\n",
    "\n",
    "- Nivel de confianza = 1 - α = 95% = 0.95\n",
    "- n = 16"
   ]
  },
  {
   "cell_type": "markdown",
   "id": "f4866152",
   "metadata": {},
   "source": [
    "## D.\tSIGNIFICANCIA\n",
    "\n",
    "- Error tipo I = α = 0.05 = 5%"
   ]
  },
  {
   "cell_type": "markdown",
   "id": "cf4c29e4",
   "metadata": {},
   "source": [
    "## E.\tDATOS\n",
    "\n",
    "- Peso promedio de cada caja de avena envasada.\n",
    "- Se adjunta en un arreglo de numpy"
   ]
  },
  {
   "cell_type": "code",
   "execution_count": 28,
   "id": "5de3f4ac",
   "metadata": {},
   "outputs": [],
   "source": [
    "# Importación de librerias a utilizar\n",
    "import numpy as np\n",
    "import pandas as pd\n",
    "import matplotlib.pyplot as plt\n",
    "\n",
    "from scipy import stats as ss"
   ]
  },
  {
   "cell_type": "code",
   "execution_count": 48,
   "id": "ee8d6780",
   "metadata": {},
   "outputs": [
    {
     "name": "stdout",
     "output_type": "stream",
     "text": [
      "Datos recolectados de la balanza1:  [11.23 14.36  8.33 10.5  23.42  9.15 13.47  6.47 12.4  19.38]\n",
      "Datos recolectados de la balanza2:  [11.27 14.41  8.35 10.52 23.41  9.17 13.52  6.46 12.45 19.35]\n"
     ]
    }
   ],
   "source": [
    "# Carga de los datos con numpy\n",
    "balanza1 = np.array([11.23, 14.36, 8.33, 10.50, 23.42, 9.15, 13.47, 6.47, 12.40, 19.38])\n",
    "balanza2 = np.array([11.27, 14.41, 8.35, 10.52, 23.41, 9.17, 13.52, 6.46, 12.45, 19.35])\n",
    "# Tamaño de la muestra\n",
    "n1 = len(balanza1)\n",
    "n2 = len(balanza2)\n",
    "# Significancia\n",
    "alpha = 0.05\n",
    "\n",
    "\n",
    "print('Datos recolectados de la balanza1: ', balanza1)\n",
    "print('Datos recolectados de la balanza2: ', balanza2)"
   ]
  },
  {
   "cell_type": "markdown",
   "id": "d00bf82a",
   "metadata": {},
   "source": [
    "## F.\tHIPOTESIS ESTADISTICA\n",
    "\n",
    "- Asumiendo la distribución de los datos sigue una distribución normal:\n",
    "\n",
    "- H0:  μ = 500g             H. Nula\n",
    "- H1:  μ ≠ 500g             H. Alterna"
   ]
  },
  {
   "cell_type": "markdown",
   "id": "c96164e7",
   "metadata": {},
   "source": [
    "## G. TIPO DE PRUEBA\n",
    "\n",
    "- Sera de doble cola porque H1 tiene el signo diferente:"
   ]
  },
  {
   "cell_type": "code",
   "execution_count": 46,
   "id": "c1a9aab5",
   "metadata": {},
   "outputs": [
    {
     "data": {
      "text/plain": [
       "<matplotlib.legend.Legend at 0x230293f4ca0>"
      ]
     },
     "execution_count": 46,
     "metadata": {},
     "output_type": "execute_result"
    },
    {
     "data": {
      "image/png": "[encoded data removed]",
      "text/plain": [
       "<Figure size 432x288 with 1 Axes>"
      ]
     },
     "metadata": {
      "needs_background": "light"
     },
     "output_type": "display_data"
    }
   ],
   "source": [
    "# Gráfica de referencia para las colas\n",
    "mu1, sigma1 = np.mean(balanza1), np.std(balanza1)\n",
    "mu2, sigma2 = np.mean(balanza1), np.std(balanza1)\n",
    "\n",
    "X = ss.norm(mu1, sigma1)\n",
    "Y = ss.norm(mu2, sigma2)\n",
    "\n",
    "graph1 = np.arange(X.ppf(0.00001), X.ppf(0.99999))\n",
    "graph2 = np.arange(Y.ppf(0.00001), Y.ppf(0.99999))\n",
    "\n",
    "plt.plot(graph1, X.pdf(graph1), c='skyblue')\n",
    "plt.plot(graph2, Y.pdf(graph2), c='salmon')\n",
    "\n",
    "tail_left = int(graph1.size * 0.05) + 1\n",
    "tail_right = int(graph1.size * 0.95) - 1\n",
    "\n",
    "plt.axvline(mu1, c='blue', label='media1')\n",
    "plt.axvline(mu2, c='red', label='media2')\n",
    "plt.axvline(graph1[tail_right], c='#c02200', label='α/2=0.025 CD')\n",
    "plt.axvline(graph1[tail_left], c='#f80000', label='α/2=0.025 CI')\n",
    "\n",
    "plt.title('Gráfica de la pregunta')\n",
    "plt.ylabel('y')\n",
    "plt.xlabel('pesos (g)')\n",
    "\n",
    "plt.legend()"
   ]
  },
  {
   "cell_type": "markdown",
   "id": "75609154",
   "metadata": {},
   "source": [
    "## H.\tESTADISTICO DE PRUEBA\n",
    "\n",
    "- No se conoce la desviación típica poblacional, por lo tanto, mi estadístico es:\n",
    "\n",
    "- Formula: $$t = {{(x_1 ̅ - x_2 ̅) - (\\mu_1 - \\mu_2)} \\over { \\sqrt { {s_1^2 \\over n_1} + { s_2^2 \\over n_2 } } }}$$"
   ]
  },
  {
   "cell_type": "code",
   "execution_count": 31,
   "id": "8c798ea7",
   "metadata": {},
   "outputs": [],
   "source": [
    "def test_t(x1, x2, std1, std2, n1, n2):\n",
    "    \n",
    "    return ((x1 - x2) - 0) / np.sqrt(std1 ** 2 / n1 + std2 ** 2 / n2)"
   ]
  },
  {
   "cell_type": "code",
   "execution_count": 56,
   "id": "3850df64",
   "metadata": {},
   "outputs": [],
   "source": [
    "def s_p(n1, n2, s1, s2):\n",
    "    \n",
    "    return ((n1 - 1) * s1 ** 2 + (n2 - 1) * s2 ** 2) / n1 + n2 - 2"
   ]
  },
  {
   "cell_type": "code",
   "execution_count": 59,
   "id": "b3fb6a32",
   "metadata": {},
   "outputs": [],
   "source": [
    "def test_t_2(x1, x2, s1, s2, n1, n2):\n",
    "    \n",
    "    sp = s_p(n1, n2, s1, s2)\n",
    "    \n",
    "    return ((x1 - x2) - 0) / np.sqrt(sp / n1 + sp / n2)"
   ]
  },
  {
   "cell_type": "code",
   "execution_count": 32,
   "id": "19285751",
   "metadata": {},
   "outputs": [
    {
     "name": "stdout",
     "output_type": "stream",
     "text": [
      "       balanza1\n",
      "count  10.00000\n",
      "mean   12.87100\n",
      "std     5.16613\n",
      "min     6.47000\n",
      "25%     9.48750\n",
      "50%    11.81500\n",
      "75%    14.13750\n",
      "max    23.42000\n",
      "        balanza2\n",
      "count  10.000000\n",
      "mean   12.891000\n",
      "std     5.156863\n",
      "min     6.460000\n",
      "25%     9.507500\n",
      "50%    11.860000\n",
      "75%    14.187500\n",
      "max    23.410000\n"
     ]
    }
   ],
   "source": [
    "data1 = {\n",
    "    'balanza1': balanza1\n",
    "}\n",
    "\n",
    "data2 = {\n",
    "    'balanza2': balanza2\n",
    "}\n",
    "\n",
    "data1 = pd.DataFrame(data1)\n",
    "data2 = pd.DataFrame(data2)\n",
    "\n",
    "print(data1.describe())\n",
    "\n",
    "print(data2.describe())"
   ]
  },
  {
   "cell_type": "code",
   "execution_count": 60,
   "id": "92e0ff2c",
   "metadata": {},
   "outputs": [
    {
     "name": "stdout",
     "output_type": "stream",
     "text": [
      "El estadistico de prueba \"t1\" es: -0.008664414135844647\n",
      "El estadistico de prueba \"t2\" es: -0.005978603427961839\n"
     ]
    }
   ],
   "source": [
    "# Calcular el \"t\" si no se conoce la desviación típica poblacional\n",
    "x1 = float(data1.mean())\n",
    "x2 = float(data2.mean())\n",
    "\n",
    "std1 = float(data1.std())\n",
    "std2 = float(data2.std())\n",
    "\n",
    "n1 = len(data1)\n",
    "n2 = len(data2)\n",
    "\n",
    "t_2 = test_t_2(x1, x2, std1, std2, n1, n2)\n",
    "t = test_t(x1, x2, std1, std2, n1, n2)\n",
    "print('El estadistico de prueba \"t1\" es:', t)\n",
    "print('El estadistico de prueba \"t2\" es:', t_2)"
   ]
  },
  {
   "cell_type": "code",
   "execution_count": 61,
   "id": "f0dbee94",
   "metadata": {},
   "outputs": [
    {
     "name": "stdout",
     "output_type": "stream",
     "text": [
      "El p-valor es:  0.9953602170389534\n"
     ]
    }
   ],
   "source": [
    "# calculamos el p-valor por el t de prueba\n",
    "p_value = ss.t.sf(np.abs(t_2), n1 - 1) * 2\n",
    "print('El p-valor es: ', p_value)"
   ]
  },
  {
   "cell_type": "code",
   "execution_count": 55,
   "id": "c239e48c",
   "metadata": {},
   "outputs": [
    {
     "name": "stdout",
     "output_type": "stream",
     "text": [
      "El estadistico de prueba \"t\" es: -2.205643866281438\n",
      "El p-valor es:  0.05483350919895083\n"
     ]
    }
   ],
   "source": [
    "td, p_valued = ss.ttest_rel(balanza1, balanza2)\n",
    "\n",
    "print('El estadistico de prueba \"t\" es:', np.mean(td))\n",
    "print('El p-valor es: ', np.mean(p_valued))"
   ]
  },
  {
   "attachments": {},
   "cell_type": "markdown",
   "id": "802db2d0",
   "metadata": {},
   "source": [
    "### Podemos respaldar nuestros datos con megaStat de Excel"
   ]
  },
  {
   "cell_type": "markdown",
   "id": "01efed59",
   "metadata": {},
   "source": [
    "## J.\tCONCLUSIÓN\n",
    "\n",
    "- p-value > alpha\n",
    "- 0.05205 > 0.05000 (Verdadero) No rechazo la Ho\n",
    "\n",
    "- No hay suficiente evidencia en las muestras para no rechazar la hipotesis nula de que el peso promedio de las cajas de avena envasadas es de 500 gramos. A un nivel de confianza de 95%.\n"
   ]
  }
 ],
 "metadata": {
  "kernelspec": {
   "display_name": "Python 3",
   "language": "python",
   "name": "python3"
  },
  "language_info": {
   "codemirror_mode": {
    "name": "ipython",
    "version": 3
   },
   "file_extension": ".py",
   "mimetype": "text/x-python",
   "name": "python",
   "nbconvert_exporter": "python",
   "pygments_lexer": "ipython3",
   "version": "3.8.8"
  }
 },
 "nbformat": 4,
 "nbformat_minor": 5
}
