{
 "cells": [
  {
   "cell_type": "code",
   "execution_count": 1,
   "id": "a7ecaf5e",
   "metadata": {},
   "outputs": [],
   "source": [
    "# Librerias básicas\n",
    "# ==============================================================================\n",
    "import numpy as np\n",
    "import scipy as sc\n",
    "import pandas as pd\n",
    "from scipy import stats\n",
    "\n",
    "import matplotlib.pyplot as plt\n",
    "\n",
    "# Configuración warnings\n",
    "# ==============================================================================\n",
    "import warnings\n",
    "warnings.filterwarnings('ignore')"
   ]
  },
  {
   "cell_type": "code",
   "execution_count": 2,
   "id": "409c8430",
   "metadata": {
    "scrolled": true
   },
   "outputs": [
    {
     "name": "stdout",
     "output_type": "stream",
     "text": [
      "<class 'pandas.core.frame.DataFrame'>\n",
      "RangeIndex: 145 entries, 0 to 144\n",
      "Data columns (total 1 columns):\n",
      " #   Column  Non-Null Count  Dtype\n",
      "---  ------  --------------  -----\n",
      " 0   loreto  145 non-null    int32\n",
      "dtypes: int32(1)\n",
      "memory usage: 708.0 bytes\n",
      "<class 'pandas.core.frame.DataFrame'>\n",
      "RangeIndex: 134 entries, 0 to 133\n",
      "Data columns (total 1 columns):\n",
      " #   Column  Non-Null Count  Dtype\n",
      "---  ------  --------------  -----\n",
      " 0   junin   134 non-null    int32\n",
      "dtypes: int32(1)\n",
      "memory usage: 664.0 bytes\n"
     ]
    }
   ],
   "source": [
    "n1 = 145\n",
    "n2 = 134\n",
    "\n",
    "loreto = np.array(np.fix(np.random.rand((n1)) * 50 + 24), dtype='int')\n",
    "junin = np.array(np.fix(np.random.rand((n2)) * 60 + 24), dtype='int')\n",
    "\n",
    "loreto = {\n",
    "    'loreto': loreto\n",
    "}\n",
    "\n",
    "junin = {\n",
    "    'junin': junin\n",
    "}\n",
    "\n",
    "loreto = pd.DataFrame(data=loreto)\n",
    "junin = pd.DataFrame(data=junin)\n",
    "\n",
    "loreto.info()\n",
    "junin.info()"
   ]
  },
  {
   "cell_type": "code",
   "execution_count": 3,
   "id": "f770e8ee",
   "metadata": {},
   "outputs": [
    {
     "data": {
      "image/png": "[encoded data removed]",
      "text/plain": [
       "<Figure size 432x288 with 1 Axes>"
      ]
     },
     "metadata": {
      "needs_background": "light"
     },
     "output_type": "display_data"
    }
   ],
   "source": [
    "# Gráficos distribución observada\n",
    "# ==============================================================================\n",
    "plt.scatter(list(range(len(loreto.loreto.tolist()))), loreto, c='skyblue')\n",
    "plt.scatter(list(range(len(junin.junin.tolist()))), junin, c='salmon')\n",
    "plt.show()"
   ]
  },
  {
   "cell_type": "code",
   "execution_count": 4,
   "id": "1f197bf5",
   "metadata": {},
   "outputs": [
    {
     "name": "stdout",
     "output_type": "stream",
     "text": [
      "           loreto\n",
      "count  145.000000\n",
      "mean    49.468966\n",
      "std     14.920649\n",
      "min     24.000000\n",
      "25%     37.000000\n",
      "50%     51.000000\n",
      "75%     63.000000\n",
      "max     73.000000\n",
      "            junin\n",
      "count  134.000000\n",
      "mean    53.171642\n",
      "std     18.287810\n",
      "min     24.000000\n",
      "25%     37.000000\n",
      "50%     55.000000\n",
      "75%     69.000000\n",
      "max     83.000000\n"
     ]
    }
   ],
   "source": [
    "# Estadísticos descriptivos por grupo\n",
    "# ==============================================================================\n",
    "print(loreto.describe())\n",
    "print(junin.describe())"
   ]
  },
  {
   "cell_type": "code",
   "execution_count": 5,
   "id": "00becc74",
   "metadata": {},
   "outputs": [],
   "source": [
    "def dif_mean(x1, x2):\n",
    "    '''\n",
    "    Función para calcular la diferencia de medias entre dos grupos.\n",
    "    \n",
    "    Parameters\n",
    "    ----------\n",
    "    x1 : numpy array\n",
    "         valores de la muestra 1.\n",
    "         \n",
    "    x2 : numpy array\n",
    "         valores de la muestra 2.\n",
    "         \n",
    "    Returns\n",
    "    -------\n",
    "    estadístico: float\n",
    "        valor del estadístico.\n",
    "    '''\n",
    "    \n",
    "    estadistico = np.mean(x1) - np.mean(x2)\n",
    "    return(estadistico)"
   ]
  },
  {
   "cell_type": "code",
   "execution_count": 6,
   "id": "8ae744dc",
   "metadata": {},
   "outputs": [],
   "source": [
    "def test_var(x1, x2, var1, var2):\n",
    "    '''\n",
    "    Función para calcular el estadistico de test z.\n",
    "    \n",
    "    Parameters\n",
    "    ----------\n",
    "    x1 : numpy array\n",
    "         valores de la muestra 1.\n",
    "         \n",
    "    x2 : numpy array\n",
    "         valores de la muestra 2.\n",
    "         \n",
    "    Returns\n",
    "    -------\n",
    "    estadístico: float\n",
    "        valor del estadístico.\n",
    "    '''\n",
    "    estadistico = (dif_mean(x1, x2) - 0) / np.sqrt((var1 ** 2) / len(x1.tolist()) + (var2 ** 2) / len(x2.tolist()))\n",
    "    return estadistico"
   ]
  },
  {
   "cell_type": "code",
   "execution_count": 11,
   "id": "0e0f8ae9",
   "metadata": {},
   "outputs": [],
   "source": [
    "var1 = 9\n",
    "var2 = 16\n",
    "\n",
    "z_score = test_var(loreto.loreto, junin.junin, var1, var2)"
   ]
  },
  {
   "cell_type": "code",
   "execution_count": 14,
   "id": "53527c3a",
   "metadata": {},
   "outputs": [],
   "source": [
    "p_value = stats.norm.sf(abs(z_score))"
   ]
  },
  {
   "cell_type": "code",
   "execution_count": 20,
   "id": "f18b3c99",
   "metadata": {},
   "outputs": [
    {
     "name": "stdout",
     "output_type": "stream",
     "text": [
      "Nuestro z-score es:  -2.356400890041568\n",
      "Nuestro p-valor es:  0.009226495547687253\n"
     ]
    }
   ],
   "source": [
    "print(\"Nuestro z-score es: \", z_score)\n",
    "print(\"Nuestro p-valor es: \", p_value)"
   ]
  },
  {
   "cell_type": "code",
   "execution_count": 21,
   "id": "545a84be",
   "metadata": {},
   "outputs": [
    {
     "data": {
      "text/plain": [
       "Ttest_indResult(statistic=-1.8588659542860673, pvalue=0.06410659664361186)"
      ]
     },
     "execution_count": 21,
     "metadata": {},
     "output_type": "execute_result"
    }
   ],
   "source": [
    "stats.ttest_ind(loreto.loreto, junin.junin, 0)"
   ]
  },
  {
   "cell_type": "code",
   "execution_count": null,
   "id": "de5c3ed8",
   "metadata": {},
   "outputs": [],
   "source": []
  }
 ],
 "metadata": {
  "kernelspec": {
   "display_name": "Python 3",
   "language": "python",
   "name": "python3"
  },
  "language_info": {
   "codemirror_mode": {
    "name": "ipython",
    "version": 3
   },
   "file_extension": ".py",
   "mimetype": "text/x-python",
   "name": "python",
   "nbconvert_exporter": "python",
   "pygments_lexer": "ipython3",
   "version": "3.8.8"
  }
 },
 "nbformat": 4,
 "nbformat_minor": 5
}
