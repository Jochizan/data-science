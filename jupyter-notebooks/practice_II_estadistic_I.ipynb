{
 "cells": [
  {
   "cell_type": "markdown",
   "id": "da8b490f",
   "metadata": {},
   "source": [
    "# Pregunta 1\n",
    "\n",
    "- Un productor de avenas envasadas afirma que el peso promedio de cada caja de su producto es de 500 gramos. ¿Los datos que a continuación se le dan apoyan la afirmación del fabricante? Pruebe con alfa = 0.05, si la muestra presenta los siguientes datos:\n",
    "\n",
    "##### 499,\t508,\t499,\t503,\t504,\t510,\t497,\t512,   514,   505,\t493,\t496,\t506,\t502,\t509,\t496"
   ]
  },
  {
   "cell_type": "markdown",
   "id": "4cc6c810",
   "metadata": {},
   "source": [
    "## A.\tHIPOTESIS DE INVESTIGACIÓN:"
   ]
  },
  {
   "cell_type": "markdown",
   "id": "fe0bccbd",
   "metadata": {},
   "source": [
    "- H0: El peso promedio de cada caja de avena envasada es 500 gramos.\n",
    "- H1: El peso promedio de cada caja de avena envasada NO es 500 gramos."
   ]
  },
  {
   "cell_type": "markdown",
   "id": "15a9af2a",
   "metadata": {},
   "source": [
    "## B.\tPOBLACIONES\n",
    "\n",
    "- La población es todas las cajas de avena envasada que realiza el productor."
   ]
  },
  {
   "cell_type": "markdown",
   "id": "cf63cde2",
   "metadata": {},
   "source": [
    "## C.\tMUESTRA\n",
    "\n",
    "- Nivel de confianza = 1 - α = 95% = 0.95\n",
    "- n = 16"
   ]
  },
  {
   "cell_type": "markdown",
   "id": "f4866152",
   "metadata": {},
   "source": [
    "## D.\tSIGNIFICANCIA\n",
    "\n",
    "- Error tipo I = α = 0.05 = 5%"
   ]
  },
  {
   "cell_type": "markdown",
   "id": "cf4c29e4",
   "metadata": {},
   "source": [
    "## E.\tDATOS\n",
    "\n",
    "- Peso promedio de cada caja de avena envasada.\n",
    "- Se adjunta en un arreglo de numpy"
   ]
  },
  {
   "cell_type": "code",
   "execution_count": 181,
   "id": "5de3f4ac",
   "metadata": {},
   "outputs": [],
   "source": [
    "# Importación de librerias a utilizar\n",
    "import numpy as np\n",
    "import pandas as pd\n",
    "import matplotlib.pyplot as plt\n",
    "\n",
    "from scipy import stats as ss"
   ]
  },
  {
   "cell_type": "code",
   "execution_count": 182,
   "id": "ee8d6780",
   "metadata": {},
   "outputs": [
    {
     "name": "stdout",
     "output_type": "stream",
     "text": [
      "Datos recolectados para el analisis de las hipotesis:  [499 508 499 503 504 510 497 512 514 505 493 496 506 502 509 496]\n"
     ]
    }
   ],
   "source": [
    "# Carga de los datos con numpy\n",
    "data = np.array([499, 508, 499, 503, 504, 510, 497, 512, 514, 505, 493, 496, 506, 502, 509, 496])\n",
    "# Tamaño de la muestra\n",
    "n = len(data)\n",
    "# Media de la hipotesis\n",
    "mean_hyp = 500\n",
    "# Significancia\n",
    "alpha = 0.05\n",
    "\n",
    "\n",
    "print('Datos recolectados para el analisis de las hipotesis: ', data)"
   ]
  },
  {
   "cell_type": "markdown",
   "id": "d00bf82a",
   "metadata": {},
   "source": [
    "## F.\tHIPOTESIS ESTADISTICA\n",
    "\n",
    "- Asumiendo la distribución de los datos sigue una distribución normal:\n",
    "\n",
    "- H0:  μ = 500g             H. Nula\n",
    "- H1:  μ ≠ 500g             H. Alterna"
   ]
  },
  {
   "cell_type": "markdown",
   "id": "c96164e7",
   "metadata": {},
   "source": [
    "## G. TIPO DE PRUEBA\n",
    "\n",
    "- Sera de doble cola porque H1 tiene el signo diferente:"
   ]
  },
  {
   "cell_type": "code",
   "execution_count": 183,
   "id": "c1a9aab5",
   "metadata": {},
   "outputs": [
    {
     "data": {
      "text/plain": [
       "<matplotlib.legend.Legend at 0x280427da4f0>"
      ]
     },
     "execution_count": 183,
     "metadata": {},
     "output_type": "execute_result"
    },
    {
     "data": {
      "image/png": "[encoded data removed]",
      "text/plain": [
       "<Figure size 432x288 with 1 Axes>"
      ]
     },
     "metadata": {
      "needs_background": "light"
     },
     "output_type": "display_data"
    }
   ],
   "source": [
    "# Gráfica de referencia para las colas\n",
    "mu, sigma = np.mean(data), np.std(data)\n",
    "\n",
    "X = ss.norm(mu, sigma)\n",
    "\n",
    "graph = np.arange(X.ppf(0.001), X.ppf(0.999))\n",
    "plt.plot(graph, X.pdf(graph), c='skyblue')\n",
    "\n",
    "tail_left = int(graph.size * 0.05) + 1\n",
    "tail_right = int(graph.size * 0.95) - 1\n",
    "\n",
    "plt.axvline(mu, c='salmon', label='media')\n",
    "plt.axvline(graph[tail_right], c='#c02200', label='α/2=0.025 CD')\n",
    "plt.axvline(graph[tail_left], c='#f80000', label='α/2=0.025 CI')\n",
    "\n",
    "plt.title('Gráfica de la pregunta')\n",
    "plt.ylabel('y')\n",
    "plt.xlabel('pesos')\n",
    "\n",
    "plt.legend()"
   ]
  },
  {
   "cell_type": "markdown",
   "id": "75609154",
   "metadata": {},
   "source": [
    "## H.\tESTADISTICO DE PRUEBA\n",
    "\n",
    "- No se conoce la desviación típica poblacional, por lo tanto, mi estadístico es:\n",
    "\n",
    "- Formula: $$t = {{x ̅ - \\mu} \\over {s \\over \\sqrt n} }$$"
   ]
  },
  {
   "cell_type": "code",
   "execution_count": 141,
   "id": "8c798ea7",
   "metadata": {},
   "outputs": [],
   "source": [
    "def test_t(x, mu, std, n):\n",
    "    \n",
    "    return (x - mu) / (std / np.sqrt(n))"
   ]
  },
  {
   "cell_type": "code",
   "execution_count": 142,
   "id": "19285751",
   "metadata": {},
   "outputs": [
    {
     "data": {
      "text/html": [
       "<div>\n",
       "<style scoped>\n",
       "    .dataframe tbody tr th:only-of-type {\n",
       "        vertical-align: middle;\n",
       "    }\n",
       "\n",
       "    .dataframe tbody tr th {\n",
       "        vertical-align: top;\n",
       "    }\n",
       "\n",
       "    .dataframe thead th {\n",
       "        text-align: right;\n",
       "    }\n",
       "</style>\n",
       "<table border=\"1\" class=\"dataframe\">\n",
       "  <thead>\n",
       "    <tr style=\"text-align: right;\">\n",
       "      <th></th>\n",
       "      <th>pesos_avenas_envasadas</th>\n",
       "    </tr>\n",
       "  </thead>\n",
       "  <tbody>\n",
       "    <tr>\n",
       "      <th>count</th>\n",
       "      <td>16.000000</td>\n",
       "    </tr>\n",
       "    <tr>\n",
       "      <th>mean</th>\n",
       "      <td>503.312500</td>\n",
       "    </tr>\n",
       "    <tr>\n",
       "      <th>std</th>\n",
       "      <td>6.279265</td>\n",
       "    </tr>\n",
       "    <tr>\n",
       "      <th>min</th>\n",
       "      <td>493.000000</td>\n",
       "    </tr>\n",
       "    <tr>\n",
       "      <th>25%</th>\n",
       "      <td>498.500000</td>\n",
       "    </tr>\n",
       "    <tr>\n",
       "      <th>50%</th>\n",
       "      <td>503.500000</td>\n",
       "    </tr>\n",
       "    <tr>\n",
       "      <th>75%</th>\n",
       "      <td>508.250000</td>\n",
       "    </tr>\n",
       "    <tr>\n",
       "      <th>max</th>\n",
       "      <td>514.000000</td>\n",
       "    </tr>\n",
       "  </tbody>\n",
       "</table>\n",
       "</div>"
      ],
      "text/plain": [
       "       pesos_avenas_envasadas\n",
       "count               16.000000\n",
       "mean               503.312500\n",
       "std                  6.279265\n",
       "min                493.000000\n",
       "25%                498.500000\n",
       "50%                503.500000\n",
       "75%                508.250000\n",
       "max                514.000000"
      ]
     },
     "execution_count": 142,
     "metadata": {},
     "output_type": "execute_result"
    }
   ],
   "source": [
    "data = {\n",
    "    'avenas_envasadas': data\n",
    "}\n",
    "data = pd.DataFrame(data)\n",
    "\n",
    "data.describe()"
   ]
  },
  {
   "cell_type": "code",
   "execution_count": 143,
   "id": "92e0ff2c",
   "metadata": {},
   "outputs": [
    {
     "name": "stdout",
     "output_type": "stream",
     "text": [
      "T de prueba es: -2.1101196369335726\n"
     ]
    }
   ],
   "source": [
    "# Calcular el \"t\" si no se conoce la desviación típica poblacional\n",
    "t = test_t(mean_hyp, float(data.mean()), float(data.std()), n)\n",
    "print('El estadistico de prueba \"t\" es:', t)"
   ]
  },
  {
   "cell_type": "code",
   "execution_count": 184,
   "id": "f0dbee94",
   "metadata": {},
   "outputs": [
    {
     "name": "stdout",
     "output_type": "stream",
     "text": [
      "El p-valor es:  0.052053882451790434\n"
     ]
    }
   ],
   "source": [
    "# calculamos el p-valor por el t de prueba\n",
    "p_value = ss.t.sf(np.abs(t), n - 1) * 2\n",
    "print('El p-valor es: ', p_value)"
   ]
  },
  {
   "cell_type": "code",
   "execution_count": 185,
   "id": "600a26b2",
   "metadata": {},
   "outputs": [
    {
     "name": "stdout",
     "output_type": "stream",
     "text": [
      "El estadistico de prueba \"t\" es: 2.1101196369335726\n",
      "El p-valor es:  0.052053882451790434\n"
     ]
    }
   ],
   "source": [
    "t, p_value = ss.ttest_1samp(data, 500)\n",
    "print('El estadistico de prueba \"t\" es:', t)\n",
    "print('El p-valor es: ', p_value)"
   ]
  },
  {
   "attachments": {
    "imagen.png": {
     "image/png": "[encoded data removed]"
    }
   },
   "cell_type": "markdown",
   "id": "802db2d0",
   "metadata": {},
   "source": [
    "### Podemos respaldar nuestros datos con MegaStat de Excel\n",
    "\n",
    "![imagen.png](attachment:imagen.png)"
   ]
  },
  {
   "cell_type": "markdown",
   "id": "01efed59",
   "metadata": {},
   "source": [
    "## J.\tCONCLUSIÓN\n",
    "\n",
    "- p-value > alpha\n",
    "- 0.05205 > 0.05000 (Verdadero) No rechazo la Ho\n",
    "\n",
    "- No hay suficiente evidencia en las muestras para no rechazar la hipotesis nula de que el peso promedio de las cajas de avena envasadas es de 500 gramos. A un nivel de confianza de 95%.\n"
   ]
  }
 ],
 "metadata": {
  "kernelspec": {
   "display_name": "Python 3",
   "language": "python",
   "name": "python3"
  },
  "language_info": {
   "codemirror_mode": {
    "name": "ipython",
    "version": 3
   },
   "file_extension": ".py",
   "mimetype": "text/x-python",
   "name": "python",
   "nbconvert_exporter": "python",
   "pygments_lexer": "ipython3",
   "version": "3.8.8"
  }
 },
 "nbformat": 4,
 "nbformat_minor": 5
}
