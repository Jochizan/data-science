{
 "cells": [
  {
   "cell_type": "markdown",
   "id": "da8b490f",
   "metadata": {},
   "source": [
    "# Pregunta 4\n",
    "\n",
    "- En un estudio clínico se busca analizar el efecto de una droga (medicamento) sobre la disminución de la presión de la sangre cuando ésta se aplica, para lo cual se utiliza una muestra de 11 personas, obteniendo los siguientes datos (presión codificada). Utilice α = 0.01. Probar que es efectivo este medicamento.\n",
    "\n",
    "- Antes_de_la_droga\t13\t12\t14\t12\t9\t14\t12\t10\t9\t13\t12\n",
    "- Después_de_la_droga\t13\t10\t12\t12\t7\t15\t10\t7\t8\t11\t11\n"
   ]
  },
  {
   "cell_type": "markdown",
   "id": "4cc6c810",
   "metadata": {},
   "source": [
    "## A.\tHIPOTESIS DE INVESTIGACIÓN:"
   ]
  },
  {
   "cell_type": "markdown",
   "id": "fe0bccbd",
   "metadata": {},
   "source": [
    "- H0: El medicamento produce una disminución de la presión de la sangre\n",
    "- H1: El medicamento NO produce una disminución de la presión de la sangre"
   ]
  },
  {
   "cell_type": "markdown",
   "id": "cf63cde2",
   "metadata": {},
   "source": [
    "## B.\tMUESTRA\n",
    "\n",
    "- Nivel de confianza = 1 - α = 99% = 0.99\n",
    "- Tamaño de muestras n = 11"
   ]
  },
  {
   "cell_type": "markdown",
   "id": "f4866152",
   "metadata": {},
   "source": [
    "## C.\tSIGNIFICANCIA\n",
    "\n",
    "- Error tipo I = α = 0.01 = 1%"
   ]
  },
  {
   "cell_type": "markdown",
   "id": "cf4c29e4",
   "metadata": {},
   "source": [
    "## E.\tDATOS\n",
    "\n",
    "- Datos recolectados en la pregunta\n",
    "- Se adjunta en un arreglo de numpy"
   ]
  },
  {
   "cell_type": "code",
   "execution_count": 2,
   "id": "5de3f4ac",
   "metadata": {},
   "outputs": [],
   "source": [
    "# Importación de librerias a utilizar\n",
    "import numpy as np\n",
    "import pandas as pd\n",
    "import matplotlib.pyplot as plt\n",
    "\n",
    "from scipy import stats as ss"
   ]
  },
  {
   "cell_type": "code",
   "execution_count": 3,
   "id": "ee8d6780",
   "metadata": {},
   "outputs": [
    {
     "name": "stdout",
     "output_type": "stream",
     "text": [
      "Datos recolectados de la balanza1:  [13 12 14 12  9 14 12 10  9 13 12]\n",
      "Datos recolectados de la balanza2:  [13 10 12 12  7 15 10  7  8 11 11]\n"
     ]
    }
   ],
   "source": [
    "# Carga de los datos con numpy\n",
    "antes_d = np.array([13, 12, 14, 12, 9, 14, 12, 10, 9, 13, 12])\n",
    "despues_d = np.array([13, 10, 12, 12, 7, 15, 10, 7, 8, 11, 11])\n",
    "# Tamaño de la muestra\n",
    "n1 = len(antes_d)\n",
    "# Significancia\n",
    "alpha = 0.01\n",
    "\n",
    "print('Datos recolectados de la balanza1: ', antes_d)\n",
    "print('Datos recolectados de la balanza2: ', despues_d)"
   ]
  },
  {
   "cell_type": "markdown",
   "id": "d00bf82a",
   "metadata": {},
   "source": [
    "## F.\tHIPOTESIS ESTADISTICA\n",
    "\n",
    "- Asumiendo la distribución de los datos sigue una distribución normal:\n",
    "\n",
    "- H1:  μ1 > μ2              H. Nula\n",
    "- H0:  μ1 <= μ2             H. Alterna"
   ]
  },
  {
   "cell_type": "markdown",
   "id": "c96164e7",
   "metadata": {},
   "source": [
    "## G. TIPO DE PRUEBA\n",
    "\n",
    "- Sera de doble cola derecha ya que tiene el sigmo mayor \">\""
   ]
  },
  {
   "cell_type": "code",
   "execution_count": 4,
   "id": "c1a9aab5",
   "metadata": {},
   "outputs": [
    {
     "data": {
      "text/plain": [
       "<matplotlib.legend.Legend at 0x28f3f56ca90>"
      ]
     },
     "execution_count": 4,
     "metadata": {},
     "output_type": "execute_result"
    },
    {
     "data": {
      "image/png": "[encoded data removed]",
      "text/plain": [
       "<Figure size 432x288 with 1 Axes>"
      ]
     },
     "metadata": {
      "needs_background": "light"
     },
     "output_type": "display_data"
    }
   ],
   "source": [
    "# Gráfica de referencia para las colas\n",
    "mu1, sigma1 = np.mean(antes_d), np.std(antes_d)\n",
    "mu2, sigma2 = np.mean(despues_d), np.std(despues_d)\n",
    "\n",
    "X = ss.norm(mu1, sigma1)\n",
    "Y = ss.norm(mu2, sigma2)\n",
    "\n",
    "graph1 = np.arange(X.ppf(0.00001), X.ppf(0.99999))\n",
    "graph2 = np.arange(Y.ppf(0.00001), Y.ppf(0.99999))\n",
    "\n",
    "plt.plot(graph1, X.pdf(graph1), c='skyblue')\n",
    "plt.plot(graph2, Y.pdf(graph2), c='salmon')\n",
    "\n",
    "tail_left = int(graph1.size * 0.05) + 1\n",
    "tail_right = int(graph1.size * 0.95) - 1\n",
    "\n",
    "plt.axvline(mu1, c='blue', label='media1')\n",
    "plt.axvline(mu2, c='red', label='media2')\n",
    "plt.axvline(graph1[tail_right], c='#c02200', label='α/2=0.025 CD')\n",
    "\n",
    "plt.title('Gráfica de la pregunta')\n",
    "plt.ylabel('y')\n",
    "plt.xlabel('presion')\n",
    "\n",
    "plt.legend()"
   ]
  },
  {
   "cell_type": "code",
   "execution_count": 5,
   "id": "19285751",
   "metadata": {},
   "outputs": [
    {
     "data": {
      "text/html": [
       "<div>\n",
       "<style scoped>\n",
       "    .dataframe tbody tr th:only-of-type {\n",
       "        vertical-align: middle;\n",
       "    }\n",
       "\n",
       "    .dataframe tbody tr th {\n",
       "        vertical-align: top;\n",
       "    }\n",
       "\n",
       "    .dataframe thead th {\n",
       "        text-align: right;\n",
       "    }\n",
       "</style>\n",
       "<table border=\"1\" class=\"dataframe\">\n",
       "  <thead>\n",
       "    <tr style=\"text-align: right;\">\n",
       "      <th></th>\n",
       "      <th>Antes_de_la_droga</th>\n",
       "      <th>Después_de_la_droga</th>\n",
       "    </tr>\n",
       "  </thead>\n",
       "  <tbody>\n",
       "    <tr>\n",
       "      <th>count</th>\n",
       "      <td>11.000000</td>\n",
       "      <td>11.000000</td>\n",
       "    </tr>\n",
       "    <tr>\n",
       "      <th>mean</th>\n",
       "      <td>11.818182</td>\n",
       "      <td>10.545455</td>\n",
       "    </tr>\n",
       "    <tr>\n",
       "      <th>std</th>\n",
       "      <td>1.778661</td>\n",
       "      <td>2.504541</td>\n",
       "    </tr>\n",
       "    <tr>\n",
       "      <th>min</th>\n",
       "      <td>9.000000</td>\n",
       "      <td>7.000000</td>\n",
       "    </tr>\n",
       "    <tr>\n",
       "      <th>25%</th>\n",
       "      <td>11.000000</td>\n",
       "      <td>9.000000</td>\n",
       "    </tr>\n",
       "    <tr>\n",
       "      <th>50%</th>\n",
       "      <td>12.000000</td>\n",
       "      <td>11.000000</td>\n",
       "    </tr>\n",
       "    <tr>\n",
       "      <th>75%</th>\n",
       "      <td>13.000000</td>\n",
       "      <td>12.000000</td>\n",
       "    </tr>\n",
       "    <tr>\n",
       "      <th>max</th>\n",
       "      <td>14.000000</td>\n",
       "      <td>15.000000</td>\n",
       "    </tr>\n",
       "  </tbody>\n",
       "</table>\n",
       "</div>"
      ],
      "text/plain": [
       "       Antes_de_la_droga  Después_de_la_droga\n",
       "count          11.000000            11.000000\n",
       "mean           11.818182            10.545455\n",
       "std             1.778661             2.504541\n",
       "min             9.000000             7.000000\n",
       "25%            11.000000             9.000000\n",
       "50%            12.000000            11.000000\n",
       "75%            13.000000            12.000000\n",
       "max            14.000000            15.000000"
      ]
     },
     "execution_count": 5,
     "metadata": {},
     "output_type": "execute_result"
    }
   ],
   "source": [
    "data = {\n",
    "    'Antes_de_la_droga': antes_d,\n",
    "    'Después_de_la_droga': despues_d\n",
    "}\n",
    "\n",
    "data = pd.DataFrame(data)\n",
    "\n",
    "data.describe()"
   ]
  },
  {
   "cell_type": "code",
   "execution_count": 6,
   "id": "6508f87c",
   "metadata": {},
   "outputs": [
    {
     "name": "stdout",
     "output_type": "stream",
     "text": [
      "El estadistico de prueba \"t\" es: 3.5445877847928333\n",
      "El p-valor es:  0.005315958290661358\n"
     ]
    }
   ],
   "source": [
    "t, p_value = ss.ttest_rel(antes_d, despues_d)\n",
    "\n",
    "print('El estadistico de prueba \"t\" es:', t)\n",
    "print('El p-valor es: ', p_value)"
   ]
  },
  {
   "attachments": {
    "imagen.png": {
     "image/png": "[encoded data removed]"
    }
   },
   "cell_type": "markdown",
   "id": "802db2d0",
   "metadata": {},
   "source": [
    "### Podemos respaldar nuestros datos con megaStat de Excel\n",
    "\n",
    "![imagen.png](attachment:imagen.png)"
   ]
  },
  {
   "cell_type": "markdown",
   "id": "01efed59",
   "metadata": {},
   "source": [
    "## I.\tCONCLUSIÓN\n",
    "\n",
    "- p-value < alpha\n",
    "- 0.053159 < 0.05000 (Verdadero) Rechazo la Ho\n",
    "\n",
    "- Hay suficiente evidencia en las muestras jusitifcar un rechazo El medicamento produce una disminución de la presión de la sangre A un nivel de confianza de 99%.\n"
   ]
  }
 ],
 "metadata": {
  "kernelspec": {
   "display_name": "Python 3",
   "language": "python",
   "name": "python3"
  },
  "language_info": {
   "codemirror_mode": {
    "name": "ipython",
    "version": 3
   },
   "file_extension": ".py",
   "mimetype": "text/x-python",
   "name": "python",
   "nbconvert_exporter": "python",
   "pygments_lexer": "ipython3",
   "version": "3.9.5"
  }
 },
 "nbformat": 4,
 "nbformat_minor": 5
}
