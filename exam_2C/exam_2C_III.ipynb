{
 "cells": [
  {
   "cell_type": "markdown",
   "id": "da8b490f",
   "metadata": {},
   "source": [
    "# Pregunta 3\n",
    "\n",
    "- Se hicieron 9 y 8 observaciones del peso de circuitos integrados (gramos) de dos marcas conocidas, obteniéndose:\n",
    "\n",
    "- Marca 1\t8.53\t8.52\t8.01\t7.99\t7.93\t7.89\t7.85\t7.82\t7.80\n",
    "- Marca 2\t7.85\t7.73\t7.58\t7.40\t7.35\t7.30\t7.27\t7.27\t\n",
    "\n",
    "- Asumiendo que tienen distribución normal, Probar que los pesos de ambas marcas son significativamente iguales a nivel poblacional. Con un nivel de confianza del 99%."
   ]
  },
  {
   "cell_type": "markdown",
   "id": "4cc6c810",
   "metadata": {},
   "source": [
    "## A.\tHIPOTESIS DE INVESTIGACIÓN:"
   ]
  },
  {
   "cell_type": "markdown",
   "id": "fe0bccbd",
   "metadata": {},
   "source": [
    "- H0: Que existe una significativa igualdad a nivel poblacional\n",
    "- H1: Que NO existe una significativa igualdad a nivel poblacional"
   ]
  },
  {
   "cell_type": "markdown",
   "id": "cf63cde2",
   "metadata": {},
   "source": [
    "## B.\tMUESTRA\n",
    "\n",
    "- Nivel de confianza = 1 - α = 99% = 0.99\n",
    "- Tamaño de muestra n = 30"
   ]
  },
  {
   "cell_type": "markdown",
   "id": "f4866152",
   "metadata": {},
   "source": [
    "## C.\tSIGNIFICANCIA\n",
    "\n",
    "- Error tipo I = α = 0.01 = 1%"
   ]
  },
  {
   "cell_type": "markdown",
   "id": "cf4c29e4",
   "metadata": {},
   "source": [
    "## D. HIPÓTESIS ESTADÍSTICA\n",
    "\n",
    "- Asumiendo la distribución de los datos sigue una distribución normal\n",
    "- H0:  μ1 = μ2             H. Nula\n",
    "- H1:  μ1 ≠ μ2             H. Alterna"
   ]
  },
  {
   "cell_type": "code",
   "execution_count": 1,
   "id": "5de3f4ac",
   "metadata": {},
   "outputs": [],
   "source": [
    "# Importación de librerias a utilizar\n",
    "import numpy as np\n",
    "import pandas as pd\n",
    "import matplotlib.pyplot as plt\n",
    "\n",
    "from scipy import stats as ss"
   ]
  },
  {
   "cell_type": "code",
   "execution_count": 2,
   "id": "edf08cc1",
   "metadata": {},
   "outputs": [
    {
     "name": "stdout",
     "output_type": "stream",
     "text": [
      "Datos recolectados de la balanza1:  [8.53 8.52 8.01 7.99 7.93 7.89 7.85 7.82 7.8 ]\n",
      "Datos recolectados de la balanza2:  [7.85 7.73 7.58 7.4  7.35 7.3  7.27 7.27]\n"
     ]
    }
   ],
   "source": [
    "# Carga de los datos con numpy\n",
    "marca1 = np.array([8.53, 8.52, 8.01, 7.99, 7.93, 7.89, 7.85, 7.82, 7.80])\n",
    "marca2 = np.array([7.85, 7.73, 7.58, 7.40, 7.35, 7.30, 7.27, 7.27])\n",
    "# Tamaño de la muestra\n",
    "n1 = len(marca1)\n",
    "n2 = len(marca2)\n",
    "# Significancia\n",
    "alpha = 0.01\n",
    "\n",
    "print('Datos recolectados de la balanza1: ', marca1)\n",
    "print('Datos recolectados de la balanza2: ', marca2)"
   ]
  },
  {
   "cell_type": "markdown",
   "id": "c96164e7",
   "metadata": {},
   "source": [
    "## E. TIPO DE PRUEBA\n",
    "\n",
    "- Sera de doble cola porque H0 tiene el signo diferente:"
   ]
  },
  {
   "cell_type": "code",
   "execution_count": 3,
   "id": "c1a9aab5",
   "metadata": {},
   "outputs": [
    {
     "data": {
      "text/plain": [
       "<matplotlib.legend.Legend at 0x1ec7cad12b0>"
      ]
     },
     "execution_count": 3,
     "metadata": {},
     "output_type": "execute_result"
    },
    {
     "data": {
      "image/png": "[encoded data removed]",
      "text/plain": [
       "<Figure size 432x288 with 1 Axes>"
      ]
     },
     "metadata": {
      "needs_background": "light"
     },
     "output_type": "display_data"
    }
   ],
   "source": [
    "# Gráfica de referencia para las colas\n",
    "mu1, sigma1 = np.mean(marca1), np.std(marca1)\n",
    "mu2, sigma2 = np.mean(marca2), np.std(marca2)\n",
    "\n",
    "X = ss.norm(mu1, sigma1)\n",
    "Y = ss.norm(mu2, sigma2)\n",
    "\n",
    "graph1 = np.arange(X.ppf(0.00001), X.ppf(0.99999))\n",
    "graph2 = np.arange(Y.ppf(0.00001), Y.ppf(0.99999))\n",
    "\n",
    "plt.plot(graph1, X.pdf(graph1), c='skyblue')\n",
    "plt.plot(graph2, Y.pdf(graph2), c='salmon')\n",
    "\n",
    "tail_left = int(graph1.size * 0.05) + 1\n",
    "tail_right = int(graph1.size * 0.95) - 1\n",
    "\n",
    "plt.axvline(mu1, c='blue', label='media1')\n",
    "plt.axvline(mu2, c='red', label='media2')\n",
    "plt.axvline(graph1[tail_right], c='#c02200', label='α/2=0.025 CD')\n",
    "plt.axvline(graph1[tail_left], c='#f80000', label='α/2=0.025 CI')\n",
    "\n",
    "plt.title('Gráfica de la pregunta')\n",
    "plt.ylabel('y')\n",
    "plt.xlabel('pesos (g)')\n",
    "\n",
    "plt.legend()"
   ]
  },
  {
   "cell_type": "markdown",
   "id": "75609154",
   "metadata": {},
   "source": [
    "## H.\tESTADISTICO DE PRUEBA\n",
    "\n",
    "- Trata de una proporción de población, entonces mi estadistico de prueba es:\n",
    "\n",
    "- Formula: $$z = {{(x_1 ̅ - x_2 ̅) - (\\mu_1 - \\mu_2)} \\over { \\sqrt { {s_1^2 \\over n_1} + { s_2^2 \\over n_2 } } }}$$"
   ]
  },
  {
   "cell_type": "code",
   "execution_count": 4,
   "id": "92e0ff2c",
   "metadata": {},
   "outputs": [],
   "source": [
    "def test_t(x1, x2, std1, std2, n1, n2):\n",
    "    \n",
    "    return ((x1 - x2) - 0) / np.sqrt(std1 ** 2 / n1 + std2 ** 2 / n2)"
   ]
  },
  {
   "cell_type": "code",
   "execution_count": 5,
   "id": "9525d011",
   "metadata": {},
   "outputs": [
    {
     "name": "stdout",
     "output_type": "stream",
     "text": [
      "         marca1\n",
      "count  9.000000\n",
      "mean   8.037778\n",
      "std    0.285166\n",
      "min    7.800000\n",
      "25%    7.850000\n",
      "50%    7.930000\n",
      "75%    8.010000\n",
      "max    8.530000\n",
      "         marca2\n",
      "count  8.000000\n",
      "mean   7.468750\n",
      "std    0.224336\n",
      "min    7.270000\n",
      "25%    7.292500\n",
      "50%    7.375000\n",
      "75%    7.617500\n",
      "max    7.850000\n"
     ]
    }
   ],
   "source": [
    "data1 = {\n",
    "    'marca1': marca1\n",
    "}\n",
    "\n",
    "data2 = {\n",
    "    'marca2': marca2\n",
    "}\n",
    "\n",
    "data1 = pd.DataFrame(data1)\n",
    "data2 = pd.DataFrame(data2)\n",
    "\n",
    "print(data1.describe())\n",
    "\n",
    "print(data2.describe())"
   ]
  },
  {
   "cell_type": "code",
   "execution_count": 6,
   "id": "06e179a0",
   "metadata": {},
   "outputs": [
    {
     "name": "stdout",
     "output_type": "stream",
     "text": [
      "El estadistico de prueba \"t\" es: 4.596361843698075\n"
     ]
    }
   ],
   "source": [
    "# Calcular el \"t\" si no se conoce la desviación típica poblacional\n",
    "x1 = float(data1.mean())\n",
    "x2 = float(data2.mean())\n",
    "\n",
    "std1 = float(data1.std())\n",
    "std2 = float(data2.std())\n",
    "\n",
    "n1 = len(data1)\n",
    "n2 = len(data2)\n",
    "\n",
    "t = test_t(x1, x2, std1, std2, n1, n2)\n",
    "print('El estadistico de prueba \"t\" es:', t)"
   ]
  },
  {
   "cell_type": "code",
   "execution_count": 20,
   "id": "ee8a5d3f",
   "metadata": {},
   "outputs": [
    {
     "name": "stdout",
     "output_type": "stream",
     "text": [
      "El p-valor es:  0.004632716735519003\n"
     ]
    }
   ],
   "source": [
    "# calculamos el p-valor por el t de prueba\n",
    "p_value = ss.norm.sf(np.abs(t)) * 2\n",
    "print('El p-valor es: ', p_value)"
   ]
  },
  {
   "attachments": {
    "imagen.png": {
     "image/png": "[encoded data removed]"
    }
   },
   "cell_type": "markdown",
   "id": "802db2d0",
   "metadata": {},
   "source": [
    "### Podemos respaldar nuestros datos con MegaStat de Excel\n",
    "\n",
    "![imagen.png](attachment:imagen.png)"
   ]
  },
  {
   "cell_type": "markdown",
   "id": "01efed59",
   "metadata": {},
   "source": [
    "## I.\tCONCLUSIÓN\n",
    "\n",
    "- p-value < alpha\n",
    "- 4.299318149041205e-06 < 0.01 (Verdadero) Rechazo la Ho\n",
    "\n",
    "- Hay suficiente evidencia en las muestras para rechazar la hipotesis nula Que existe una significativa igualdad a nivel poblacional. A un nivel de confianza de 99%."
   ]
  }
 ],
 "metadata": {
  "kernelspec": {
   "display_name": "Python 3",
   "language": "python",
   "name": "python3"
  },
  "language_info": {
   "codemirror_mode": {
    "name": "ipython",
    "version": 3
   },
   "file_extension": ".py",
   "mimetype": "text/x-python",
   "name": "python",
   "nbconvert_exporter": "python",
   "pygments_lexer": "ipython3",
   "version": "3.9.5"
  }
 },
 "nbformat": 4,
 "nbformat_minor": 5
}
