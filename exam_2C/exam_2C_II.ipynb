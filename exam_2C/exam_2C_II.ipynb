{
 "cells": [
  {
   "cell_type": "markdown",
   "id": "da8b490f",
   "metadata": {},
   "source": [
    "# Pregunta 2\n",
    "\n",
    "- Se estudió el peso total de residuos sólidos domésticos producida por casa durante un día en dos ciudades, para lo cual se tomaron dos muestras de tamaños 35 y 40 respectivamente obteniéndose los siguientes datos a un nivel de confianza del 90%:\n",
    "\n",
    "- \tCiudad 1\tCiudad 2\n",
    "- x\t4.1600\t4.5575\n",
    "- s\t0.884\t0.3809\n",
    "- n\t35\t40\n",
    "- Probar la hipótesis de que en ambas ciudades producen la misma cantidad de residuos por cada casa, suponiendo que se conocen los parámetros.    y tienen distribución normal\n"
   ]
  },
  {
   "cell_type": "markdown",
   "id": "4cc6c810",
   "metadata": {},
   "source": [
    "## A.\tHIPOTESIS DE INVESTIGACIÓN:"
   ]
  },
  {
   "cell_type": "markdown",
   "id": "fe0bccbd",
   "metadata": {},
   "source": [
    "- H0: Ambas ciudades producen la misma cantidad de residuos por cada casa.\n",
    "- H1: Ambas ciudades NO producen la misma cantidad de residuos por cada casa."
   ]
  },
  {
   "cell_type": "markdown",
   "id": "cf63cde2",
   "metadata": {},
   "source": [
    "## B.\tMUESTRA\n",
    "\n",
    "- Nivel de confianza = 1 - α = 90% = 0.90\n",
    "- Tamaño de muestras n1 = 35 y n2 = 40"
   ]
  },
  {
   "cell_type": "markdown",
   "id": "f4866152",
   "metadata": {},
   "source": [
    "## C.\tSIGNIFICANCIA\n",
    "\n",
    "- Error tipo I = α = 0.1 = 10%"
   ]
  },
  {
   "cell_type": "markdown",
   "id": "cf4c29e4",
   "metadata": {},
   "source": [
    "## D. HIPÓTESIS ESTADÍSTICA\n",
    "\n",
    "- Asumiendo la distribución de los datos sigue una distribución normal\n",
    "- H0:  μ1 = μ2              H. Nula\n",
    "- H1:  μ1 ≠ μ2              H. Alterna\n"
   ]
  },
  {
   "cell_type": "code",
   "execution_count": 2,
   "id": "5de3f4ac",
   "metadata": {},
   "outputs": [],
   "source": [
    "# Importación de librerias a utilizar\n",
    "import numpy as np\n",
    "import pandas as pd\n",
    "import matplotlib.pyplot as plt\n",
    "\n",
    "from scipy import stats as ss"
   ]
  },
  {
   "cell_type": "markdown",
   "id": "c96164e7",
   "metadata": {},
   "source": [
    "## E. TIPO DE PRUEBA\n",
    "\n",
    "- Será de cola izquierda porque H1 tiene el signo menor"
   ]
  },
  {
   "cell_type": "code",
   "execution_count": 3,
   "id": "c1a9aab5",
   "metadata": {},
   "outputs": [
    {
     "data": {
      "text/plain": [
       "<matplotlib.legend.Legend at 0x138d6f481c0>"
      ]
     },
     "execution_count": 3,
     "metadata": {},
     "output_type": "execute_result"
    },
    {
     "data": {
      "image/png": "[encoded data removed]",
      "text/plain": [
       "<Figure size 432x288 with 1 Axes>"
      ]
     },
     "metadata": {
      "needs_background": "light"
     },
     "output_type": "display_data"
    }
   ],
   "source": [
    "# Gráfica de referencia para las colas\n",
    "mu1, sigma1 = 4.16, 0.9\n",
    "mu2, sigma2 = 4.55, 0.4\n",
    "n1, n2 = 35, 40\n",
    "\n",
    "X = ss.norm(mu1, sigma1)\n",
    "Y = ss.norm(mu2, sigma2)\n",
    "\n",
    "graph1 = np.arange(X.ppf(0.0000001), X.ppf(0.9999999))\n",
    "graph2 = np.arange(Y.ppf(0.0000001), Y.ppf(0.9999999))\n",
    "\n",
    "plt.plot(graph1, X.pdf(graph1), c='skyblue')\n",
    "plt.plot(graph2, Y.pdf(graph2), c='salmon')\n",
    "\n",
    "tail_left = int(graph1.size * 0.05) + 1\n",
    "tail_right = int(graph1.size * 0.95) - 1\n",
    "\n",
    "plt.axvline(mu1, c='blue', label='media1')\n",
    "plt.axvline(mu2, c='red', label='media2')\n",
    "plt.axvline(graph1[tail_right], c='#c02200', label='α/2=0.025 CD')\n",
    "plt.axvline(graph1[tail_left], c='#f80000', label='α/2=0.025 CI')\n",
    "\n",
    "plt.title('Gráfica de la pregunta')\n",
    "plt.ylabel('y')\n",
    "plt.xlabel('x')\n",
    "\n",
    "plt.legend()"
   ]
  },
  {
   "cell_type": "markdown",
   "id": "75609154",
   "metadata": {},
   "source": [
    "## H.\tESTADISTICO DE PRUEBA\n",
    "\n",
    "- Trata de una proporción de población, entonces mi estadistico de prueba es:\n",
    "\n",
    "- Formula: $$z = {{(x_1 ̅ - x_2 ̅) - (\\mu_1 - \\mu_2)} \\over { \\sqrt { {\\sigma_1^2 \\over n_1} + { \\sigma_2^2 \\over n_2 } } }}$$"
   ]
  },
  {
   "cell_type": "code",
   "execution_count": 4,
   "id": "8c798ea7",
   "metadata": {},
   "outputs": [],
   "source": [
    "def test_t(x1, x2, std1, std2, n1, n2):\n",
    "    \n",
    "    return ((x1 - x2) - 0) / np.sqrt(std1 ** 2 / n1 + std2 ** 2 / n2)"
   ]
  },
  {
   "cell_type": "code",
   "execution_count": 5,
   "id": "95c10214",
   "metadata": {},
   "outputs": [
    {
     "name": "stdout",
     "output_type": "stream",
     "text": [
      "El estadistico de prueba \"t\" es: -2.3672102168008458\n"
     ]
    }
   ],
   "source": [
    "t = test_t(mu1, mu2, sigma1, sigma2, n1, n2)\n",
    "print('El estadistico de prueba \"t\" es:', t)"
   ]
  },
  {
   "cell_type": "code",
   "execution_count": 6,
   "id": "f0dbee94",
   "metadata": {},
   "outputs": [
    {
     "name": "stdout",
     "output_type": "stream",
     "text": [
      "El p-valor es: 0.01792274945471434\n"
     ]
    }
   ],
   "source": [
    "p_value = ss.norm.sf(abs(t)) * 2\n",
    "print(\"El p-valor es:\", p_value)"
   ]
  },
  {
   "attachments": {
    "imagen-4.png": {
     "image/png": "[encoded data removed]"
    }
   },
   "cell_type": "markdown",
   "id": "802db2d0",
   "metadata": {},
   "source": [
    "### Podemos respaldar nuestros datos con MegaStat de Excel\n",
    "\n",
    "![imagen-4.png](attachment:imagen-4.png)"
   ]
  },
  {
   "cell_type": "markdown",
   "id": "01efed59",
   "metadata": {},
   "source": [
    "## I.\tCONCLUSIÓN\n",
    "\n",
    "- p-value < alpha\n",
    "- 0.01548 < 0.10000 (Verdadero) Rechazo la Ho\n",
    "\n",
    "- Hay la suficiente evidencia en las muestras para rechazar la hipotesis nula de que ambas ciudades producen la misma cantidad de residuos por cada casa.. A un nivel de confianza de 90%.\n"
   ]
  }
 ],
 "metadata": {
  "kernelspec": {
   "display_name": "Python 3",
   "language": "python",
   "name": "python3"
  },
  "language_info": {
   "codemirror_mode": {
    "name": "ipython",
    "version": 3
   },
   "file_extension": ".py",
   "mimetype": "text/x-python",
   "name": "python",
   "nbconvert_exporter": "python",
   "pygments_lexer": "ipython3",
   "version": "3.9.5"
  }
 },
 "nbformat": 4,
 "nbformat_minor": 5
}
