{
 "cells": [
  {
   "cell_type": "markdown",
   "id": "da8b490f",
   "metadata": {},
   "source": [
    "# Pregunta 1\n",
    "\n",
    "\n",
    "- Utilice un nivel de significancia de 0.01 para probar la aseveración de un analista de que la media de todos los tiempos de ejecución de un programa se ejecuta en más de 0.3 seg. A continuación, se muestra los datos de la muestra:\n",
    "\n",
    "- 0.23\t0.24\t0.30\t0.47\t0.43\t0.27\t0.47\t0.33  0.44\t0.39\t0.38\t0.17\t0.13\t0.29\t0.45\t0.43\n"
   ]
  },
  {
   "cell_type": "markdown",
   "id": "4cc6c810",
   "metadata": {},
   "source": [
    "## A.\tHIPOTESIS DE INVESTIGACIÓN:"
   ]
  },
  {
   "cell_type": "markdown",
   "id": "fe0bccbd",
   "metadata": {},
   "source": [
    "- H0: La media de todos los tiempos de ejecución del programa se ejecuta en mas de 0.3s\n",
    "- H1: La media de todos los tiempos de ejecución del programa se ejecuta en menos o igual de 0.3s"
   ]
  },
  {
   "cell_type": "markdown",
   "id": "cf63cde2",
   "metadata": {},
   "source": [
    "## B.\tMUESTRA\n",
    "\n",
    "- Nivel de confianza = 1 - α = 99% = 0.99\n",
    "- n = 16"
   ]
  },
  {
   "cell_type": "markdown",
   "id": "f4866152",
   "metadata": {},
   "source": [
    "## C.\tSIGNIFICANCIA\n",
    "\n",
    "- Error tipo I = α = 0.01 = 1%"
   ]
  },
  {
   "cell_type": "markdown",
   "id": "cf4c29e4",
   "metadata": {},
   "source": [
    "## D.\tDATOS\n",
    "\n",
    "- Los tiempos de ejecución del programa\n",
    "- Se adjunta en un arreglo de numpy"
   ]
  },
  {
   "cell_type": "code",
   "execution_count": 1,
   "id": "5de3f4ac",
   "metadata": {},
   "outputs": [],
   "source": [
    "# Importación de librerias a utilizar\n",
    "import numpy as np\n",
    "import pandas as pd\n",
    "import matplotlib.pyplot as plt\n",
    "\n",
    "from scipy import stats as ss"
   ]
  },
  {
   "cell_type": "code",
   "execution_count": 13,
   "id": "ee8d6780",
   "metadata": {},
   "outputs": [
    {
     "name": "stdout",
     "output_type": "stream",
     "text": [
      "Datos recolectados para el analisis de las hipotesis:  [0.23 0.24 0.3  0.47 0.43 0.27 0.47 0.33 0.44 0.39 0.38 0.17 0.13 0.29\n",
      " 0.45 0.43]\n"
     ]
    }
   ],
   "source": [
    "# Carga de los datos con numpy\n",
    "data = np.array([0.23, 0.24, 0.30, 0.47, 0.43, 0.27, 0.47, 0.33, 0.44, 0.39, 0.38, 0.17, 0.13, 0.29, 0.45, 0.43])\n",
    "# Tamaño de la muestra\n",
    "n = len(data)\n",
    "# Media de la hipotesis\n",
    "mean_hyp = 0.3\n",
    "# Significancia\n",
    "alpha = 0.01\n",
    "\n",
    "print('Datos recolectados para el analisis de las hipotesis: ', data)"
   ]
  },
  {
   "cell_type": "markdown",
   "id": "d00bf82a",
   "metadata": {},
   "source": [
    "## E.\tHIPOTESIS ESTADISTICA\n",
    "\n",
    "- Asumiendo la distribución de los datos sigue una distribución normal:\n",
    "\n",
    "- H0:  μ > 0.3s             H. Nula\n",
    "- H1:  μ <= 0.3s             H. Alterna"
   ]
  },
  {
   "cell_type": "markdown",
   "id": "c96164e7",
   "metadata": {},
   "source": [
    "## F. TIPO DE PRUEBA\n",
    "\n",
    "- Sera de 1 cola puesto que Ho tiene signo mayor a 0.3s"
   ]
  },
  {
   "cell_type": "code",
   "execution_count": 29,
   "id": "c1a9aab5",
   "metadata": {},
   "outputs": [
    {
     "data": {
      "text/plain": [
       "<matplotlib.legend.Legend at 0x2515ff8aa90>"
      ]
     },
     "execution_count": 29,
     "metadata": {},
     "output_type": "execute_result"
    },
    {
     "data": {
      "image/png": "[encoded data removed]",
      "text/plain": [
       "<Figure size 432x288 with 1 Axes>"
      ]
     },
     "metadata": {
      "needs_background": "light"
     },
     "output_type": "display_data"
    }
   ],
   "source": [
    "# Gráfica de referencia para las colas\n",
    "rand = np.array(np.random.rand((100)) * 100, 'int')\n",
    "mu, sigma = np.mean(rand), np.std(rand)\n",
    "X = ss.norm(mu, sigma)\n",
    "\n",
    "graph = np.arange(X.ppf(0.00000001), X.ppf(0.99999999))\n",
    "plt.plot(graph, X.pdf(graph), c='skyblue')\n",
    "\n",
    "tail_right = int(graph.size * 0.99) - 2\n",
    "\n",
    "plt.axvline(graph[tail_right], c='#c02200', label='α/2=0.01 CD')\n",
    "\n",
    "plt.title('Gráfica de la pregunta')\n",
    "plt.ylabel('y')\n",
    "plt.xlabel('pesos')\n",
    "\n",
    "plt.legend()"
   ]
  },
  {
   "cell_type": "markdown",
   "id": "75609154",
   "metadata": {},
   "source": [
    "## G.\tESTADISTICO DE PRUEBA\n",
    "\n",
    "- No se conoce la desviación típica poblacional, por lo tanto, mi estadístico es:\n",
    "\n",
    "- Formula: $$t = {{x ̅ - \\mu} \\over {s \\over \\sqrt n} }$$"
   ]
  },
  {
   "cell_type": "code",
   "execution_count": 19,
   "id": "19285751",
   "metadata": {},
   "outputs": [
    {
     "data": {
      "text/html": [
       "<div>\n",
       "<style scoped>\n",
       "    .dataframe tbody tr th:only-of-type {\n",
       "        vertical-align: middle;\n",
       "    }\n",
       "\n",
       "    .dataframe tbody tr th {\n",
       "        vertical-align: top;\n",
       "    }\n",
       "\n",
       "    .dataframe thead th {\n",
       "        text-align: right;\n",
       "    }\n",
       "</style>\n",
       "<table border=\"1\" class=\"dataframe\">\n",
       "  <thead>\n",
       "    <tr style=\"text-align: right;\">\n",
       "      <th></th>\n",
       "      <th>tiempo de ejecución</th>\n",
       "    </tr>\n",
       "  </thead>\n",
       "  <tbody>\n",
       "    <tr>\n",
       "      <th>count</th>\n",
       "      <td>16.000000</td>\n",
       "    </tr>\n",
       "    <tr>\n",
       "      <th>mean</th>\n",
       "      <td>0.338750</td>\n",
       "    </tr>\n",
       "    <tr>\n",
       "      <th>std</th>\n",
       "      <td>0.109659</td>\n",
       "    </tr>\n",
       "    <tr>\n",
       "      <th>min</th>\n",
       "      <td>0.130000</td>\n",
       "    </tr>\n",
       "    <tr>\n",
       "      <th>25%</th>\n",
       "      <td>0.262500</td>\n",
       "    </tr>\n",
       "    <tr>\n",
       "      <th>50%</th>\n",
       "      <td>0.355000</td>\n",
       "    </tr>\n",
       "    <tr>\n",
       "      <th>75%</th>\n",
       "      <td>0.432500</td>\n",
       "    </tr>\n",
       "    <tr>\n",
       "      <th>max</th>\n",
       "      <td>0.470000</td>\n",
       "    </tr>\n",
       "  </tbody>\n",
       "</table>\n",
       "</div>"
      ],
      "text/plain": [
       "       tiempo de ejecución\n",
       "count            16.000000\n",
       "mean              0.338750\n",
       "std               0.109659\n",
       "min               0.130000\n",
       "25%               0.262500\n",
       "50%               0.355000\n",
       "75%               0.432500\n",
       "max               0.470000"
      ]
     },
     "execution_count": 19,
     "metadata": {},
     "output_type": "execute_result"
    }
   ],
   "source": [
    "data = {\n",
    "    'tiempo de ejecución': data\n",
    "}\n",
    "data = pd.DataFrame(data)\n",
    "\n",
    "data.describe()"
   ]
  },
  {
   "cell_type": "code",
   "execution_count": 31,
   "id": "c7141f90",
   "metadata": {},
   "outputs": [],
   "source": [
    "def test_t(x, mu, std, n):\n",
    "    \n",
    "    return (x - mu) / (std / np.sqrt(n))"
   ]
  },
  {
   "cell_type": "code",
   "execution_count": 33,
   "id": "600a26b2",
   "metadata": {},
   "outputs": [
    {
     "name": "stdout",
     "output_type": "stream",
     "text": [
      "El p-valor es:  0.088966548523066\n"
     ]
    }
   ],
   "source": [
    "t = test_t(0.3, 0.33875, 0.109659, 16)\n",
    "\n",
    "# calculamos el p-valor por el t de prueba\n",
    "p_value = ss.t.sf(np.abs(t), n - 1)\n",
    "print('El p-valor es: ', p_value)"
   ]
  },
  {
   "attachments": {
    "imagen-3.png": {
     "image/png": "[encoded data removed]"
    }
   },
   "cell_type": "markdown",
   "id": "802db2d0",
   "metadata": {},
   "source": [
    "### Podemos respaldar nuestros resultados con MegaStat de Excel\n",
    "\n",
    "![imagen-3.png](attachment:imagen-3.png)"
   ]
  },
  {
   "cell_type": "markdown",
   "id": "01efed59",
   "metadata": {},
   "source": [
    "## J.\tCONCLUSIÓN\n",
    "\n",
    "- p-value > alpha\n",
    "- 0.08793146405258392 > 0.01(Verdadero) No rechazo la Ho\n",
    "\n",
    "- No hay suficiente evidencia en las muestras para rechazar la hipotesis nula de que la media de los tiempos de ejecución del programa son mayores a 0.3s. A un nivel de confianza de 99%.\n"
   ]
  },
  {
   "cell_type": "code",
   "execution_count": null,
   "id": "b537a059",
   "metadata": {},
   "outputs": [],
   "source": []
  }
 ],
 "metadata": {
  "kernelspec": {
   "display_name": "Python 3",
   "language": "python",
   "name": "python3"
  },
  "language_info": {
   "codemirror_mode": {
    "name": "ipython",
    "version": 3
   },
   "file_extension": ".py",
   "mimetype": "text/x-python",
   "name": "python",
   "nbconvert_exporter": "python",
   "pygments_lexer": "ipython3",
   "version": "3.8.8"
  }
 },
 "nbformat": 4,
 "nbformat_minor": 5
}
